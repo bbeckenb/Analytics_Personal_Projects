{
 "cells": [
  {
   "cell_type": "markdown",
   "metadata": {},
   "source": [
    "# Exploring Graduate Employment Outcomes\n",
    "In this analysis we are going to be looking through data pertaining to employment outcomes for college students who graduated between years 2010 - 2012 in the United States. Our objectives from this exercise are as follows:\n",
    "- Discovering if students in more popular majors have higher average incomes\n",
    "- Exploring the relationship between gender and average income\n",
    "- Analyzing the connection between major type, employment status, and average income\n",
    "\n",
    "These objectives will be elaborated on further in their independent sections.\n"
   ]
  },
  {
   "cell_type": "markdown",
   "metadata": {},
   "source": [
    "## Table of Contents\n",
    "[Introduction to the Data](#Introduction-to-the-Data)\n",
    "\n",
    "[Cleaning the Data](#2)\n",
    "\n",
    "[Objectives](#3)\n",
    "\n",
    "- [Discovering if Students in more Popular Majors Have Higher Average Incomes](#4)\n",
    "- [Exploring the Relationship Between Gender and Average Income](#5)\n",
    "- [Analyzing the Connection Between Major Type, Employment Status, and Average income](#6)\n",
    "\n",
    "[Conclusions](#7)"
   ]
  },
  {
   "cell_type": "markdown",
   "metadata": {},
   "source": [
    "## Introduction to the Data\n",
    "\n",
    "The data was collected by [The American Community Survey](https://www.census.gov/programs-surveys/acs/) and was cleaned then [released by fivethirtyeight on Github](https://github.com/fivethirtyeight/data/tree/master/college-majors).\n",
    "\n",
    "Each row of the data represents a different major. The rows are ranked and ordered by median salary income. The column headers and definitions are displayed in a '__Header__ - Description' format below:\n",
    " \n",
    "- __Rank__ - Rank by median earnings\n",
    "- __Major_code__ - Major code, FO1DP in ACS PUMS\n",
    "- __Major__ - Major description\n",
    "- __Major_category__ - Category of major from Carnevale et al\n",
    "- __Total__ - Total number of people with major\n",
    "- __Sample_size__ - Sample size (unweighted) of full-time, year-round ONLY (used for earnings)\n",
    "- __Men__ - Male graduates\n",
    "- __Women__ - Female graduates\n",
    "- __ShareWomen__ - Women as share of total\n",
    "- __Employed__ - Number employed (ESR == 1 or 2)\n",
    "- __Full_time__ - Employed 35 hours or more\n",
    "- __Part_time__ - Employed less than 35 hours\n",
    "- __Full_time_year_round__ - Employed at least 50 weeks (WKW == 1) and at least 35 hours (WKHP >= 35)\n",
    "- __Unemployed__ - Number unemployed (ESR == 3)\n",
    "- __Unemployment_rate__ - Unemployed / (Unemployed + Employed)\n",
    "- __Median__ - Median earnings of full-time, year-round workers\n",
    "- __P25th__ - 25th percentile of earnings\n",
    "- __P75th__ - 75th percentile of earnings\n",
    "- __College_jobs__ - Number with job requiring a college degree\n",
    "- __Non_college_jobs__ - Number with job not requiring a college degree\n",
    "- __Low_wage_jobs__ - Number in low-wage service jobs\n",
    "    \n",
    "First, we will import the necessary function libraries (Pandas, matplot, etc.), import the dataset as variable name 'grad_data', then we will display the first and last five rows of our dataset, and finally we will utilize the .describe() method to view statistical information of our columns."
   ]
  },
  {
   "cell_type": "code",
   "execution_count": 397,
   "metadata": {},
   "outputs": [],
   "source": [
    "import pandas as pd\n",
    "import numpy as np\n",
    "import matplotlib.pyplot as plt\n",
    "from numpy import arange\n",
    "%matplotlib inline"
   ]
  },
  {
   "cell_type": "code",
   "execution_count": 398,
   "metadata": {},
   "outputs": [
    {
     "data": {
      "text/html": [
       "<div>\n",
       "<style scoped>\n",
       "    .dataframe tbody tr th:only-of-type {\n",
       "        vertical-align: middle;\n",
       "    }\n",
       "\n",
       "    .dataframe tbody tr th {\n",
       "        vertical-align: top;\n",
       "    }\n",
       "\n",
       "    .dataframe thead th {\n",
       "        text-align: right;\n",
       "    }\n",
       "</style>\n",
       "<table border=\"1\" class=\"dataframe\">\n",
       "  <thead>\n",
       "    <tr style=\"text-align: right;\">\n",
       "      <th></th>\n",
       "      <th>Rank</th>\n",
       "      <th>Major_code</th>\n",
       "      <th>Major</th>\n",
       "      <th>Total</th>\n",
       "      <th>Men</th>\n",
       "      <th>Women</th>\n",
       "      <th>Major_category</th>\n",
       "      <th>ShareWomen</th>\n",
       "      <th>Sample_size</th>\n",
       "      <th>Employed</th>\n",
       "      <th>...</th>\n",
       "      <th>Part_time</th>\n",
       "      <th>Full_time_year_round</th>\n",
       "      <th>Unemployed</th>\n",
       "      <th>Unemployment_rate</th>\n",
       "      <th>Median</th>\n",
       "      <th>P25th</th>\n",
       "      <th>P75th</th>\n",
       "      <th>College_jobs</th>\n",
       "      <th>Non_college_jobs</th>\n",
       "      <th>Low_wage_jobs</th>\n",
       "    </tr>\n",
       "  </thead>\n",
       "  <tbody>\n",
       "    <tr>\n",
       "      <th>0</th>\n",
       "      <td>1</td>\n",
       "      <td>2419</td>\n",
       "      <td>PETROLEUM ENGINEERING</td>\n",
       "      <td>2339.0</td>\n",
       "      <td>2057.0</td>\n",
       "      <td>282.0</td>\n",
       "      <td>Engineering</td>\n",
       "      <td>0.120564</td>\n",
       "      <td>36</td>\n",
       "      <td>1976</td>\n",
       "      <td>...</td>\n",
       "      <td>270</td>\n",
       "      <td>1207</td>\n",
       "      <td>37</td>\n",
       "      <td>0.018381</td>\n",
       "      <td>110000</td>\n",
       "      <td>95000</td>\n",
       "      <td>125000</td>\n",
       "      <td>1534</td>\n",
       "      <td>364</td>\n",
       "      <td>193</td>\n",
       "    </tr>\n",
       "    <tr>\n",
       "      <th>1</th>\n",
       "      <td>2</td>\n",
       "      <td>2416</td>\n",
       "      <td>MINING AND MINERAL ENGINEERING</td>\n",
       "      <td>756.0</td>\n",
       "      <td>679.0</td>\n",
       "      <td>77.0</td>\n",
       "      <td>Engineering</td>\n",
       "      <td>0.101852</td>\n",
       "      <td>7</td>\n",
       "      <td>640</td>\n",
       "      <td>...</td>\n",
       "      <td>170</td>\n",
       "      <td>388</td>\n",
       "      <td>85</td>\n",
       "      <td>0.117241</td>\n",
       "      <td>75000</td>\n",
       "      <td>55000</td>\n",
       "      <td>90000</td>\n",
       "      <td>350</td>\n",
       "      <td>257</td>\n",
       "      <td>50</td>\n",
       "    </tr>\n",
       "    <tr>\n",
       "      <th>2</th>\n",
       "      <td>3</td>\n",
       "      <td>2415</td>\n",
       "      <td>METALLURGICAL ENGINEERING</td>\n",
       "      <td>856.0</td>\n",
       "      <td>725.0</td>\n",
       "      <td>131.0</td>\n",
       "      <td>Engineering</td>\n",
       "      <td>0.153037</td>\n",
       "      <td>3</td>\n",
       "      <td>648</td>\n",
       "      <td>...</td>\n",
       "      <td>133</td>\n",
       "      <td>340</td>\n",
       "      <td>16</td>\n",
       "      <td>0.024096</td>\n",
       "      <td>73000</td>\n",
       "      <td>50000</td>\n",
       "      <td>105000</td>\n",
       "      <td>456</td>\n",
       "      <td>176</td>\n",
       "      <td>0</td>\n",
       "    </tr>\n",
       "    <tr>\n",
       "      <th>3</th>\n",
       "      <td>4</td>\n",
       "      <td>2417</td>\n",
       "      <td>NAVAL ARCHITECTURE AND MARINE ENGINEERING</td>\n",
       "      <td>1258.0</td>\n",
       "      <td>1123.0</td>\n",
       "      <td>135.0</td>\n",
       "      <td>Engineering</td>\n",
       "      <td>0.107313</td>\n",
       "      <td>16</td>\n",
       "      <td>758</td>\n",
       "      <td>...</td>\n",
       "      <td>150</td>\n",
       "      <td>692</td>\n",
       "      <td>40</td>\n",
       "      <td>0.050125</td>\n",
       "      <td>70000</td>\n",
       "      <td>43000</td>\n",
       "      <td>80000</td>\n",
       "      <td>529</td>\n",
       "      <td>102</td>\n",
       "      <td>0</td>\n",
       "    </tr>\n",
       "    <tr>\n",
       "      <th>4</th>\n",
       "      <td>5</td>\n",
       "      <td>2405</td>\n",
       "      <td>CHEMICAL ENGINEERING</td>\n",
       "      <td>32260.0</td>\n",
       "      <td>21239.0</td>\n",
       "      <td>11021.0</td>\n",
       "      <td>Engineering</td>\n",
       "      <td>0.341631</td>\n",
       "      <td>289</td>\n",
       "      <td>25694</td>\n",
       "      <td>...</td>\n",
       "      <td>5180</td>\n",
       "      <td>16697</td>\n",
       "      <td>1672</td>\n",
       "      <td>0.061098</td>\n",
       "      <td>65000</td>\n",
       "      <td>50000</td>\n",
       "      <td>75000</td>\n",
       "      <td>18314</td>\n",
       "      <td>4440</td>\n",
       "      <td>972</td>\n",
       "    </tr>\n",
       "  </tbody>\n",
       "</table>\n",
       "<p>5 rows × 21 columns</p>\n",
       "</div>"
      ],
      "text/plain": [
       "   Rank  Major_code                                      Major    Total  \\\n",
       "0     1        2419                      PETROLEUM ENGINEERING   2339.0   \n",
       "1     2        2416             MINING AND MINERAL ENGINEERING    756.0   \n",
       "2     3        2415                  METALLURGICAL ENGINEERING    856.0   \n",
       "3     4        2417  NAVAL ARCHITECTURE AND MARINE ENGINEERING   1258.0   \n",
       "4     5        2405                       CHEMICAL ENGINEERING  32260.0   \n",
       "\n",
       "       Men    Women Major_category  ShareWomen  Sample_size  Employed  ...  \\\n",
       "0   2057.0    282.0    Engineering    0.120564           36      1976  ...   \n",
       "1    679.0     77.0    Engineering    0.101852            7       640  ...   \n",
       "2    725.0    131.0    Engineering    0.153037            3       648  ...   \n",
       "3   1123.0    135.0    Engineering    0.107313           16       758  ...   \n",
       "4  21239.0  11021.0    Engineering    0.341631          289     25694  ...   \n",
       "\n",
       "   Part_time  Full_time_year_round  Unemployed  Unemployment_rate  Median  \\\n",
       "0        270                  1207          37           0.018381  110000   \n",
       "1        170                   388          85           0.117241   75000   \n",
       "2        133                   340          16           0.024096   73000   \n",
       "3        150                   692          40           0.050125   70000   \n",
       "4       5180                 16697        1672           0.061098   65000   \n",
       "\n",
       "   P25th   P75th  College_jobs  Non_college_jobs  Low_wage_jobs  \n",
       "0  95000  125000          1534               364            193  \n",
       "1  55000   90000           350               257             50  \n",
       "2  50000  105000           456               176              0  \n",
       "3  43000   80000           529               102              0  \n",
       "4  50000   75000         18314              4440            972  \n",
       "\n",
       "[5 rows x 21 columns]"
      ]
     },
     "execution_count": 398,
     "metadata": {},
     "output_type": "execute_result"
    }
   ],
   "source": [
    "grad_data = pd.read_csv(r'C:\\Users\\bbeckenb\\OneDrive\\Documents\\Local Datasets\\recent-grads.csv', encoding=\"Windows-1252\")\n",
    "grad_data.head()"
   ]
  },
  {
   "cell_type": "code",
   "execution_count": 399,
   "metadata": {},
   "outputs": [
    {
     "data": {
      "text/html": [
       "<div>\n",
       "<style scoped>\n",
       "    .dataframe tbody tr th:only-of-type {\n",
       "        vertical-align: middle;\n",
       "    }\n",
       "\n",
       "    .dataframe tbody tr th {\n",
       "        vertical-align: top;\n",
       "    }\n",
       "\n",
       "    .dataframe thead th {\n",
       "        text-align: right;\n",
       "    }\n",
       "</style>\n",
       "<table border=\"1\" class=\"dataframe\">\n",
       "  <thead>\n",
       "    <tr style=\"text-align: right;\">\n",
       "      <th></th>\n",
       "      <th>Rank</th>\n",
       "      <th>Major_code</th>\n",
       "      <th>Major</th>\n",
       "      <th>Total</th>\n",
       "      <th>Men</th>\n",
       "      <th>Women</th>\n",
       "      <th>Major_category</th>\n",
       "      <th>ShareWomen</th>\n",
       "      <th>Sample_size</th>\n",
       "      <th>Employed</th>\n",
       "      <th>...</th>\n",
       "      <th>Part_time</th>\n",
       "      <th>Full_time_year_round</th>\n",
       "      <th>Unemployed</th>\n",
       "      <th>Unemployment_rate</th>\n",
       "      <th>Median</th>\n",
       "      <th>P25th</th>\n",
       "      <th>P75th</th>\n",
       "      <th>College_jobs</th>\n",
       "      <th>Non_college_jobs</th>\n",
       "      <th>Low_wage_jobs</th>\n",
       "    </tr>\n",
       "  </thead>\n",
       "  <tbody>\n",
       "    <tr>\n",
       "      <th>168</th>\n",
       "      <td>169</td>\n",
       "      <td>3609</td>\n",
       "      <td>ZOOLOGY</td>\n",
       "      <td>8409.0</td>\n",
       "      <td>3050.0</td>\n",
       "      <td>5359.0</td>\n",
       "      <td>Biology &amp; Life Science</td>\n",
       "      <td>0.637293</td>\n",
       "      <td>47</td>\n",
       "      <td>6259</td>\n",
       "      <td>...</td>\n",
       "      <td>2190</td>\n",
       "      <td>3602</td>\n",
       "      <td>304</td>\n",
       "      <td>0.046320</td>\n",
       "      <td>26000</td>\n",
       "      <td>20000</td>\n",
       "      <td>39000</td>\n",
       "      <td>2771</td>\n",
       "      <td>2947</td>\n",
       "      <td>743</td>\n",
       "    </tr>\n",
       "    <tr>\n",
       "      <th>169</th>\n",
       "      <td>170</td>\n",
       "      <td>5201</td>\n",
       "      <td>EDUCATIONAL PSYCHOLOGY</td>\n",
       "      <td>2854.0</td>\n",
       "      <td>522.0</td>\n",
       "      <td>2332.0</td>\n",
       "      <td>Psychology &amp; Social Work</td>\n",
       "      <td>0.817099</td>\n",
       "      <td>7</td>\n",
       "      <td>2125</td>\n",
       "      <td>...</td>\n",
       "      <td>572</td>\n",
       "      <td>1211</td>\n",
       "      <td>148</td>\n",
       "      <td>0.065112</td>\n",
       "      <td>25000</td>\n",
       "      <td>24000</td>\n",
       "      <td>34000</td>\n",
       "      <td>1488</td>\n",
       "      <td>615</td>\n",
       "      <td>82</td>\n",
       "    </tr>\n",
       "    <tr>\n",
       "      <th>170</th>\n",
       "      <td>171</td>\n",
       "      <td>5202</td>\n",
       "      <td>CLINICAL PSYCHOLOGY</td>\n",
       "      <td>2838.0</td>\n",
       "      <td>568.0</td>\n",
       "      <td>2270.0</td>\n",
       "      <td>Psychology &amp; Social Work</td>\n",
       "      <td>0.799859</td>\n",
       "      <td>13</td>\n",
       "      <td>2101</td>\n",
       "      <td>...</td>\n",
       "      <td>648</td>\n",
       "      <td>1293</td>\n",
       "      <td>368</td>\n",
       "      <td>0.149048</td>\n",
       "      <td>25000</td>\n",
       "      <td>25000</td>\n",
       "      <td>40000</td>\n",
       "      <td>986</td>\n",
       "      <td>870</td>\n",
       "      <td>622</td>\n",
       "    </tr>\n",
       "    <tr>\n",
       "      <th>171</th>\n",
       "      <td>172</td>\n",
       "      <td>5203</td>\n",
       "      <td>COUNSELING PSYCHOLOGY</td>\n",
       "      <td>4626.0</td>\n",
       "      <td>931.0</td>\n",
       "      <td>3695.0</td>\n",
       "      <td>Psychology &amp; Social Work</td>\n",
       "      <td>0.798746</td>\n",
       "      <td>21</td>\n",
       "      <td>3777</td>\n",
       "      <td>...</td>\n",
       "      <td>965</td>\n",
       "      <td>2738</td>\n",
       "      <td>214</td>\n",
       "      <td>0.053621</td>\n",
       "      <td>23400</td>\n",
       "      <td>19200</td>\n",
       "      <td>26000</td>\n",
       "      <td>2403</td>\n",
       "      <td>1245</td>\n",
       "      <td>308</td>\n",
       "    </tr>\n",
       "    <tr>\n",
       "      <th>172</th>\n",
       "      <td>173</td>\n",
       "      <td>3501</td>\n",
       "      <td>LIBRARY SCIENCE</td>\n",
       "      <td>1098.0</td>\n",
       "      <td>134.0</td>\n",
       "      <td>964.0</td>\n",
       "      <td>Education</td>\n",
       "      <td>0.877960</td>\n",
       "      <td>2</td>\n",
       "      <td>742</td>\n",
       "      <td>...</td>\n",
       "      <td>237</td>\n",
       "      <td>410</td>\n",
       "      <td>87</td>\n",
       "      <td>0.104946</td>\n",
       "      <td>22000</td>\n",
       "      <td>20000</td>\n",
       "      <td>22000</td>\n",
       "      <td>288</td>\n",
       "      <td>338</td>\n",
       "      <td>192</td>\n",
       "    </tr>\n",
       "  </tbody>\n",
       "</table>\n",
       "<p>5 rows × 21 columns</p>\n",
       "</div>"
      ],
      "text/plain": [
       "     Rank  Major_code                   Major   Total     Men   Women  \\\n",
       "168   169        3609                 ZOOLOGY  8409.0  3050.0  5359.0   \n",
       "169   170        5201  EDUCATIONAL PSYCHOLOGY  2854.0   522.0  2332.0   \n",
       "170   171        5202     CLINICAL PSYCHOLOGY  2838.0   568.0  2270.0   \n",
       "171   172        5203   COUNSELING PSYCHOLOGY  4626.0   931.0  3695.0   \n",
       "172   173        3501         LIBRARY SCIENCE  1098.0   134.0   964.0   \n",
       "\n",
       "               Major_category  ShareWomen  Sample_size  Employed  ...  \\\n",
       "168    Biology & Life Science    0.637293           47      6259  ...   \n",
       "169  Psychology & Social Work    0.817099            7      2125  ...   \n",
       "170  Psychology & Social Work    0.799859           13      2101  ...   \n",
       "171  Psychology & Social Work    0.798746           21      3777  ...   \n",
       "172                 Education    0.877960            2       742  ...   \n",
       "\n",
       "     Part_time  Full_time_year_round  Unemployed  Unemployment_rate  Median  \\\n",
       "168       2190                  3602         304           0.046320   26000   \n",
       "169        572                  1211         148           0.065112   25000   \n",
       "170        648                  1293         368           0.149048   25000   \n",
       "171        965                  2738         214           0.053621   23400   \n",
       "172        237                   410          87           0.104946   22000   \n",
       "\n",
       "     P25th  P75th  College_jobs  Non_college_jobs  Low_wage_jobs  \n",
       "168  20000  39000          2771              2947            743  \n",
       "169  24000  34000          1488               615             82  \n",
       "170  25000  40000           986               870            622  \n",
       "171  19200  26000          2403              1245            308  \n",
       "172  20000  22000           288               338            192  \n",
       "\n",
       "[5 rows x 21 columns]"
      ]
     },
     "execution_count": 399,
     "metadata": {},
     "output_type": "execute_result"
    }
   ],
   "source": [
    "grad_data.tail()"
   ]
  },
  {
   "cell_type": "code",
   "execution_count": 400,
   "metadata": {},
   "outputs": [
    {
     "data": {
      "text/html": [
       "<div>\n",
       "<style scoped>\n",
       "    .dataframe tbody tr th:only-of-type {\n",
       "        vertical-align: middle;\n",
       "    }\n",
       "\n",
       "    .dataframe tbody tr th {\n",
       "        vertical-align: top;\n",
       "    }\n",
       "\n",
       "    .dataframe thead th {\n",
       "        text-align: right;\n",
       "    }\n",
       "</style>\n",
       "<table border=\"1\" class=\"dataframe\">\n",
       "  <thead>\n",
       "    <tr style=\"text-align: right;\">\n",
       "      <th></th>\n",
       "      <th>Rank</th>\n",
       "      <th>Major_code</th>\n",
       "      <th>Total</th>\n",
       "      <th>Men</th>\n",
       "      <th>Women</th>\n",
       "      <th>ShareWomen</th>\n",
       "      <th>Sample_size</th>\n",
       "      <th>Employed</th>\n",
       "      <th>Full_time</th>\n",
       "      <th>Part_time</th>\n",
       "      <th>Full_time_year_round</th>\n",
       "      <th>Unemployed</th>\n",
       "      <th>Unemployment_rate</th>\n",
       "      <th>Median</th>\n",
       "      <th>P25th</th>\n",
       "      <th>P75th</th>\n",
       "      <th>College_jobs</th>\n",
       "      <th>Non_college_jobs</th>\n",
       "      <th>Low_wage_jobs</th>\n",
       "    </tr>\n",
       "  </thead>\n",
       "  <tbody>\n",
       "    <tr>\n",
       "      <th>count</th>\n",
       "      <td>173.000000</td>\n",
       "      <td>173.000000</td>\n",
       "      <td>172.000000</td>\n",
       "      <td>172.000000</td>\n",
       "      <td>172.000000</td>\n",
       "      <td>172.000000</td>\n",
       "      <td>173.000000</td>\n",
       "      <td>173.000000</td>\n",
       "      <td>173.000000</td>\n",
       "      <td>173.000000</td>\n",
       "      <td>173.000000</td>\n",
       "      <td>173.000000</td>\n",
       "      <td>173.000000</td>\n",
       "      <td>173.000000</td>\n",
       "      <td>173.000000</td>\n",
       "      <td>173.000000</td>\n",
       "      <td>173.000000</td>\n",
       "      <td>173.000000</td>\n",
       "      <td>173.000000</td>\n",
       "    </tr>\n",
       "    <tr>\n",
       "      <th>mean</th>\n",
       "      <td>87.000000</td>\n",
       "      <td>3879.815029</td>\n",
       "      <td>39370.081395</td>\n",
       "      <td>16723.406977</td>\n",
       "      <td>22646.674419</td>\n",
       "      <td>0.522223</td>\n",
       "      <td>356.080925</td>\n",
       "      <td>31192.763006</td>\n",
       "      <td>26029.306358</td>\n",
       "      <td>8832.398844</td>\n",
       "      <td>19694.427746</td>\n",
       "      <td>2416.329480</td>\n",
       "      <td>0.068191</td>\n",
       "      <td>40151.445087</td>\n",
       "      <td>29501.445087</td>\n",
       "      <td>51494.219653</td>\n",
       "      <td>12322.635838</td>\n",
       "      <td>13284.497110</td>\n",
       "      <td>3859.017341</td>\n",
       "    </tr>\n",
       "    <tr>\n",
       "      <th>std</th>\n",
       "      <td>50.084928</td>\n",
       "      <td>1687.753140</td>\n",
       "      <td>63483.491009</td>\n",
       "      <td>28122.433474</td>\n",
       "      <td>41057.330740</td>\n",
       "      <td>0.231205</td>\n",
       "      <td>618.361022</td>\n",
       "      <td>50675.002241</td>\n",
       "      <td>42869.655092</td>\n",
       "      <td>14648.179473</td>\n",
       "      <td>33160.941514</td>\n",
       "      <td>4112.803148</td>\n",
       "      <td>0.030331</td>\n",
       "      <td>11470.181802</td>\n",
       "      <td>9166.005235</td>\n",
       "      <td>14906.279740</td>\n",
       "      <td>21299.868863</td>\n",
       "      <td>23789.655363</td>\n",
       "      <td>6944.998579</td>\n",
       "    </tr>\n",
       "    <tr>\n",
       "      <th>min</th>\n",
       "      <td>1.000000</td>\n",
       "      <td>1100.000000</td>\n",
       "      <td>124.000000</td>\n",
       "      <td>119.000000</td>\n",
       "      <td>0.000000</td>\n",
       "      <td>0.000000</td>\n",
       "      <td>2.000000</td>\n",
       "      <td>0.000000</td>\n",
       "      <td>111.000000</td>\n",
       "      <td>0.000000</td>\n",
       "      <td>111.000000</td>\n",
       "      <td>0.000000</td>\n",
       "      <td>0.000000</td>\n",
       "      <td>22000.000000</td>\n",
       "      <td>18500.000000</td>\n",
       "      <td>22000.000000</td>\n",
       "      <td>0.000000</td>\n",
       "      <td>0.000000</td>\n",
       "      <td>0.000000</td>\n",
       "    </tr>\n",
       "    <tr>\n",
       "      <th>25%</th>\n",
       "      <td>44.000000</td>\n",
       "      <td>2403.000000</td>\n",
       "      <td>4549.750000</td>\n",
       "      <td>2177.500000</td>\n",
       "      <td>1778.250000</td>\n",
       "      <td>0.336026</td>\n",
       "      <td>39.000000</td>\n",
       "      <td>3608.000000</td>\n",
       "      <td>3154.000000</td>\n",
       "      <td>1030.000000</td>\n",
       "      <td>2453.000000</td>\n",
       "      <td>304.000000</td>\n",
       "      <td>0.050306</td>\n",
       "      <td>33000.000000</td>\n",
       "      <td>24000.000000</td>\n",
       "      <td>42000.000000</td>\n",
       "      <td>1675.000000</td>\n",
       "      <td>1591.000000</td>\n",
       "      <td>340.000000</td>\n",
       "    </tr>\n",
       "    <tr>\n",
       "      <th>50%</th>\n",
       "      <td>87.000000</td>\n",
       "      <td>3608.000000</td>\n",
       "      <td>15104.000000</td>\n",
       "      <td>5434.000000</td>\n",
       "      <td>8386.500000</td>\n",
       "      <td>0.534024</td>\n",
       "      <td>130.000000</td>\n",
       "      <td>11797.000000</td>\n",
       "      <td>10048.000000</td>\n",
       "      <td>3299.000000</td>\n",
       "      <td>7413.000000</td>\n",
       "      <td>893.000000</td>\n",
       "      <td>0.067961</td>\n",
       "      <td>36000.000000</td>\n",
       "      <td>27000.000000</td>\n",
       "      <td>47000.000000</td>\n",
       "      <td>4390.000000</td>\n",
       "      <td>4595.000000</td>\n",
       "      <td>1231.000000</td>\n",
       "    </tr>\n",
       "    <tr>\n",
       "      <th>75%</th>\n",
       "      <td>130.000000</td>\n",
       "      <td>5503.000000</td>\n",
       "      <td>38909.750000</td>\n",
       "      <td>14631.000000</td>\n",
       "      <td>22553.750000</td>\n",
       "      <td>0.703299</td>\n",
       "      <td>338.000000</td>\n",
       "      <td>31433.000000</td>\n",
       "      <td>25147.000000</td>\n",
       "      <td>9948.000000</td>\n",
       "      <td>16891.000000</td>\n",
       "      <td>2393.000000</td>\n",
       "      <td>0.087557</td>\n",
       "      <td>45000.000000</td>\n",
       "      <td>33000.000000</td>\n",
       "      <td>60000.000000</td>\n",
       "      <td>14444.000000</td>\n",
       "      <td>11783.000000</td>\n",
       "      <td>3466.000000</td>\n",
       "    </tr>\n",
       "    <tr>\n",
       "      <th>max</th>\n",
       "      <td>173.000000</td>\n",
       "      <td>6403.000000</td>\n",
       "      <td>393735.000000</td>\n",
       "      <td>173809.000000</td>\n",
       "      <td>307087.000000</td>\n",
       "      <td>0.968954</td>\n",
       "      <td>4212.000000</td>\n",
       "      <td>307933.000000</td>\n",
       "      <td>251540.000000</td>\n",
       "      <td>115172.000000</td>\n",
       "      <td>199897.000000</td>\n",
       "      <td>28169.000000</td>\n",
       "      <td>0.177226</td>\n",
       "      <td>110000.000000</td>\n",
       "      <td>95000.000000</td>\n",
       "      <td>125000.000000</td>\n",
       "      <td>151643.000000</td>\n",
       "      <td>148395.000000</td>\n",
       "      <td>48207.000000</td>\n",
       "    </tr>\n",
       "  </tbody>\n",
       "</table>\n",
       "</div>"
      ],
      "text/plain": [
       "             Rank   Major_code          Total            Men          Women  \\\n",
       "count  173.000000   173.000000     172.000000     172.000000     172.000000   \n",
       "mean    87.000000  3879.815029   39370.081395   16723.406977   22646.674419   \n",
       "std     50.084928  1687.753140   63483.491009   28122.433474   41057.330740   \n",
       "min      1.000000  1100.000000     124.000000     119.000000       0.000000   \n",
       "25%     44.000000  2403.000000    4549.750000    2177.500000    1778.250000   \n",
       "50%     87.000000  3608.000000   15104.000000    5434.000000    8386.500000   \n",
       "75%    130.000000  5503.000000   38909.750000   14631.000000   22553.750000   \n",
       "max    173.000000  6403.000000  393735.000000  173809.000000  307087.000000   \n",
       "\n",
       "       ShareWomen  Sample_size       Employed      Full_time      Part_time  \\\n",
       "count  172.000000   173.000000     173.000000     173.000000     173.000000   \n",
       "mean     0.522223   356.080925   31192.763006   26029.306358    8832.398844   \n",
       "std      0.231205   618.361022   50675.002241   42869.655092   14648.179473   \n",
       "min      0.000000     2.000000       0.000000     111.000000       0.000000   \n",
       "25%      0.336026    39.000000    3608.000000    3154.000000    1030.000000   \n",
       "50%      0.534024   130.000000   11797.000000   10048.000000    3299.000000   \n",
       "75%      0.703299   338.000000   31433.000000   25147.000000    9948.000000   \n",
       "max      0.968954  4212.000000  307933.000000  251540.000000  115172.000000   \n",
       "\n",
       "       Full_time_year_round    Unemployed  Unemployment_rate         Median  \\\n",
       "count            173.000000    173.000000         173.000000     173.000000   \n",
       "mean           19694.427746   2416.329480           0.068191   40151.445087   \n",
       "std            33160.941514   4112.803148           0.030331   11470.181802   \n",
       "min              111.000000      0.000000           0.000000   22000.000000   \n",
       "25%             2453.000000    304.000000           0.050306   33000.000000   \n",
       "50%             7413.000000    893.000000           0.067961   36000.000000   \n",
       "75%            16891.000000   2393.000000           0.087557   45000.000000   \n",
       "max           199897.000000  28169.000000           0.177226  110000.000000   \n",
       "\n",
       "              P25th          P75th   College_jobs  Non_college_jobs  \\\n",
       "count    173.000000     173.000000     173.000000        173.000000   \n",
       "mean   29501.445087   51494.219653   12322.635838      13284.497110   \n",
       "std     9166.005235   14906.279740   21299.868863      23789.655363   \n",
       "min    18500.000000   22000.000000       0.000000          0.000000   \n",
       "25%    24000.000000   42000.000000    1675.000000       1591.000000   \n",
       "50%    27000.000000   47000.000000    4390.000000       4595.000000   \n",
       "75%    33000.000000   60000.000000   14444.000000      11783.000000   \n",
       "max    95000.000000  125000.000000  151643.000000     148395.000000   \n",
       "\n",
       "       Low_wage_jobs  \n",
       "count     173.000000  \n",
       "mean     3859.017341  \n",
       "std      6944.998579  \n",
       "min         0.000000  \n",
       "25%       340.000000  \n",
       "50%      1231.000000  \n",
       "75%      3466.000000  \n",
       "max     48207.000000  "
      ]
     },
     "execution_count": 400,
     "metadata": {},
     "output_type": "execute_result"
    }
   ],
   "source": [
    "grad_data.describe()"
   ]
  },
  {
   "cell_type": "markdown",
   "metadata": {},
   "source": [
    "<a id=\"2\"></a>\n",
    "## Cleaning the Data\n",
    "We can see most every column has 173 values except for 'Total', 'Men', 'Women', and 'ShareWomen' so we will identify and drop rows with missing data. Otherwise our columns will not match up and this would create errors using some methods later in the analysis. \n",
    "\n",
    "Below we will store the row count for each column of the raw data in variable 'raw_data_count', we will then drop rows containing null values using the '.dropna()' method. Finally we will store the new row count for each column in variable 'clean_data_count'."
   ]
  },
  {
   "cell_type": "code",
   "execution_count": 401,
   "metadata": {},
   "outputs": [],
   "source": [
    "raw_data_count = grad_data.count()\n",
    "grad_data = grad_data.dropna()\n",
    "clean_data_count = grad_data.count()"
   ]
  },
  {
   "cell_type": "code",
   "execution_count": 402,
   "metadata": {},
   "outputs": [
    {
     "data": {
      "text/plain": [
       "Rank                    173\n",
       "Major_code              173\n",
       "Major                   173\n",
       "Total                   172\n",
       "Men                     172\n",
       "Women                   172\n",
       "Major_category          173\n",
       "ShareWomen              172\n",
       "Sample_size             173\n",
       "Employed                173\n",
       "Full_time               173\n",
       "Part_time               173\n",
       "Full_time_year_round    173\n",
       "Unemployed              173\n",
       "Unemployment_rate       173\n",
       "Median                  173\n",
       "P25th                   173\n",
       "P75th                   173\n",
       "College_jobs            173\n",
       "Non_college_jobs        173\n",
       "Low_wage_jobs           173\n",
       "dtype: int64"
      ]
     },
     "execution_count": 402,
     "metadata": {},
     "output_type": "execute_result"
    }
   ],
   "source": [
    "raw_data_count"
   ]
  },
  {
   "cell_type": "code",
   "execution_count": 403,
   "metadata": {},
   "outputs": [
    {
     "data": {
      "text/plain": [
       "Rank                    172\n",
       "Major_code              172\n",
       "Major                   172\n",
       "Total                   172\n",
       "Men                     172\n",
       "Women                   172\n",
       "Major_category          172\n",
       "ShareWomen              172\n",
       "Sample_size             172\n",
       "Employed                172\n",
       "Full_time               172\n",
       "Part_time               172\n",
       "Full_time_year_round    172\n",
       "Unemployed              172\n",
       "Unemployment_rate       172\n",
       "Median                  172\n",
       "P25th                   172\n",
       "P75th                   172\n",
       "College_jobs            172\n",
       "Non_college_jobs        172\n",
       "Low_wage_jobs           172\n",
       "dtype: int64"
      ]
     },
     "execution_count": 403,
     "metadata": {},
     "output_type": "execute_result"
    }
   ],
   "source": [
    "clean_data_count"
   ]
  },
  {
   "cell_type": "code",
   "execution_count": 404,
   "metadata": {},
   "outputs": [
    {
     "data": {
      "text/html": [
       "<div>\n",
       "<style scoped>\n",
       "    .dataframe tbody tr th:only-of-type {\n",
       "        vertical-align: middle;\n",
       "    }\n",
       "\n",
       "    .dataframe tbody tr th {\n",
       "        vertical-align: top;\n",
       "    }\n",
       "\n",
       "    .dataframe thead th {\n",
       "        text-align: right;\n",
       "    }\n",
       "</style>\n",
       "<table border=\"1\" class=\"dataframe\">\n",
       "  <thead>\n",
       "    <tr style=\"text-align: right;\">\n",
       "      <th></th>\n",
       "      <th>Rank</th>\n",
       "      <th>Major_code</th>\n",
       "      <th>Total</th>\n",
       "      <th>Men</th>\n",
       "      <th>Women</th>\n",
       "      <th>ShareWomen</th>\n",
       "      <th>Sample_size</th>\n",
       "      <th>Employed</th>\n",
       "      <th>Full_time</th>\n",
       "      <th>Part_time</th>\n",
       "      <th>Full_time_year_round</th>\n",
       "      <th>Unemployed</th>\n",
       "      <th>Unemployment_rate</th>\n",
       "      <th>Median</th>\n",
       "      <th>P25th</th>\n",
       "      <th>P75th</th>\n",
       "      <th>College_jobs</th>\n",
       "      <th>Non_college_jobs</th>\n",
       "      <th>Low_wage_jobs</th>\n",
       "    </tr>\n",
       "  </thead>\n",
       "  <tbody>\n",
       "    <tr>\n",
       "      <th>count</th>\n",
       "      <td>172.000000</td>\n",
       "      <td>172.000000</td>\n",
       "      <td>172.000000</td>\n",
       "      <td>172.000000</td>\n",
       "      <td>172.000000</td>\n",
       "      <td>172.000000</td>\n",
       "      <td>172.000000</td>\n",
       "      <td>172.00000</td>\n",
       "      <td>172.000000</td>\n",
       "      <td>172.000000</td>\n",
       "      <td>172.000000</td>\n",
       "      <td>172.000000</td>\n",
       "      <td>172.000000</td>\n",
       "      <td>172.000000</td>\n",
       "      <td>172.000000</td>\n",
       "      <td>172.000000</td>\n",
       "      <td>172.000000</td>\n",
       "      <td>172.000000</td>\n",
       "      <td>172.000000</td>\n",
       "    </tr>\n",
       "    <tr>\n",
       "      <th>mean</th>\n",
       "      <td>87.377907</td>\n",
       "      <td>3895.953488</td>\n",
       "      <td>39370.081395</td>\n",
       "      <td>16723.406977</td>\n",
       "      <td>22646.674419</td>\n",
       "      <td>0.522223</td>\n",
       "      <td>357.941860</td>\n",
       "      <td>31355.80814</td>\n",
       "      <td>26165.767442</td>\n",
       "      <td>8877.232558</td>\n",
       "      <td>19798.843023</td>\n",
       "      <td>2428.412791</td>\n",
       "      <td>0.068024</td>\n",
       "      <td>40076.744186</td>\n",
       "      <td>29486.918605</td>\n",
       "      <td>51386.627907</td>\n",
       "      <td>12387.401163</td>\n",
       "      <td>13354.325581</td>\n",
       "      <td>3878.633721</td>\n",
       "    </tr>\n",
       "    <tr>\n",
       "      <th>std</th>\n",
       "      <td>49.983181</td>\n",
       "      <td>1679.240095</td>\n",
       "      <td>63483.491009</td>\n",
       "      <td>28122.433474</td>\n",
       "      <td>41057.330740</td>\n",
       "      <td>0.231205</td>\n",
       "      <td>619.680419</td>\n",
       "      <td>50777.42865</td>\n",
       "      <td>42957.122320</td>\n",
       "      <td>14679.038729</td>\n",
       "      <td>33229.227514</td>\n",
       "      <td>4121.730452</td>\n",
       "      <td>0.030340</td>\n",
       "      <td>11461.388773</td>\n",
       "      <td>9190.769927</td>\n",
       "      <td>14882.278650</td>\n",
       "      <td>21344.967522</td>\n",
       "      <td>23841.326605</td>\n",
       "      <td>6960.467621</td>\n",
       "    </tr>\n",
       "    <tr>\n",
       "      <th>min</th>\n",
       "      <td>1.000000</td>\n",
       "      <td>1100.000000</td>\n",
       "      <td>124.000000</td>\n",
       "      <td>119.000000</td>\n",
       "      <td>0.000000</td>\n",
       "      <td>0.000000</td>\n",
       "      <td>2.000000</td>\n",
       "      <td>0.00000</td>\n",
       "      <td>111.000000</td>\n",
       "      <td>0.000000</td>\n",
       "      <td>111.000000</td>\n",
       "      <td>0.000000</td>\n",
       "      <td>0.000000</td>\n",
       "      <td>22000.000000</td>\n",
       "      <td>18500.000000</td>\n",
       "      <td>22000.000000</td>\n",
       "      <td>0.000000</td>\n",
       "      <td>0.000000</td>\n",
       "      <td>0.000000</td>\n",
       "    </tr>\n",
       "    <tr>\n",
       "      <th>25%</th>\n",
       "      <td>44.750000</td>\n",
       "      <td>2403.750000</td>\n",
       "      <td>4549.750000</td>\n",
       "      <td>2177.500000</td>\n",
       "      <td>1778.250000</td>\n",
       "      <td>0.336026</td>\n",
       "      <td>42.000000</td>\n",
       "      <td>3734.75000</td>\n",
       "      <td>3181.000000</td>\n",
       "      <td>1013.750000</td>\n",
       "      <td>2474.750000</td>\n",
       "      <td>299.500000</td>\n",
       "      <td>0.050261</td>\n",
       "      <td>33000.000000</td>\n",
       "      <td>24000.000000</td>\n",
       "      <td>41750.000000</td>\n",
       "      <td>1744.750000</td>\n",
       "      <td>1594.000000</td>\n",
       "      <td>336.750000</td>\n",
       "    </tr>\n",
       "    <tr>\n",
       "      <th>50%</th>\n",
       "      <td>87.500000</td>\n",
       "      <td>3608.500000</td>\n",
       "      <td>15104.000000</td>\n",
       "      <td>5434.000000</td>\n",
       "      <td>8386.500000</td>\n",
       "      <td>0.534024</td>\n",
       "      <td>131.000000</td>\n",
       "      <td>12031.50000</td>\n",
       "      <td>10073.500000</td>\n",
       "      <td>3332.500000</td>\n",
       "      <td>7436.500000</td>\n",
       "      <td>905.000000</td>\n",
       "      <td>0.067544</td>\n",
       "      <td>36000.000000</td>\n",
       "      <td>27000.000000</td>\n",
       "      <td>47000.000000</td>\n",
       "      <td>4467.500000</td>\n",
       "      <td>4603.500000</td>\n",
       "      <td>1238.500000</td>\n",
       "    </tr>\n",
       "    <tr>\n",
       "      <th>75%</th>\n",
       "      <td>130.250000</td>\n",
       "      <td>5503.250000</td>\n",
       "      <td>38909.750000</td>\n",
       "      <td>14631.000000</td>\n",
       "      <td>22553.750000</td>\n",
       "      <td>0.703299</td>\n",
       "      <td>339.000000</td>\n",
       "      <td>31701.25000</td>\n",
       "      <td>25447.250000</td>\n",
       "      <td>9981.000000</td>\n",
       "      <td>17674.750000</td>\n",
       "      <td>2397.000000</td>\n",
       "      <td>0.087247</td>\n",
       "      <td>45000.000000</td>\n",
       "      <td>33250.000000</td>\n",
       "      <td>58500.000000</td>\n",
       "      <td>14595.750000</td>\n",
       "      <td>11791.750000</td>\n",
       "      <td>3496.000000</td>\n",
       "    </tr>\n",
       "    <tr>\n",
       "      <th>max</th>\n",
       "      <td>173.000000</td>\n",
       "      <td>6403.000000</td>\n",
       "      <td>393735.000000</td>\n",
       "      <td>173809.000000</td>\n",
       "      <td>307087.000000</td>\n",
       "      <td>0.968954</td>\n",
       "      <td>4212.000000</td>\n",
       "      <td>307933.00000</td>\n",
       "      <td>251540.000000</td>\n",
       "      <td>115172.000000</td>\n",
       "      <td>199897.000000</td>\n",
       "      <td>28169.000000</td>\n",
       "      <td>0.177226</td>\n",
       "      <td>110000.000000</td>\n",
       "      <td>95000.000000</td>\n",
       "      <td>125000.000000</td>\n",
       "      <td>151643.000000</td>\n",
       "      <td>148395.000000</td>\n",
       "      <td>48207.000000</td>\n",
       "    </tr>\n",
       "  </tbody>\n",
       "</table>\n",
       "</div>"
      ],
      "text/plain": [
       "             Rank   Major_code          Total            Men          Women  \\\n",
       "count  172.000000   172.000000     172.000000     172.000000     172.000000   \n",
       "mean    87.377907  3895.953488   39370.081395   16723.406977   22646.674419   \n",
       "std     49.983181  1679.240095   63483.491009   28122.433474   41057.330740   \n",
       "min      1.000000  1100.000000     124.000000     119.000000       0.000000   \n",
       "25%     44.750000  2403.750000    4549.750000    2177.500000    1778.250000   \n",
       "50%     87.500000  3608.500000   15104.000000    5434.000000    8386.500000   \n",
       "75%    130.250000  5503.250000   38909.750000   14631.000000   22553.750000   \n",
       "max    173.000000  6403.000000  393735.000000  173809.000000  307087.000000   \n",
       "\n",
       "       ShareWomen  Sample_size      Employed      Full_time      Part_time  \\\n",
       "count  172.000000   172.000000     172.00000     172.000000     172.000000   \n",
       "mean     0.522223   357.941860   31355.80814   26165.767442    8877.232558   \n",
       "std      0.231205   619.680419   50777.42865   42957.122320   14679.038729   \n",
       "min      0.000000     2.000000       0.00000     111.000000       0.000000   \n",
       "25%      0.336026    42.000000    3734.75000    3181.000000    1013.750000   \n",
       "50%      0.534024   131.000000   12031.50000   10073.500000    3332.500000   \n",
       "75%      0.703299   339.000000   31701.25000   25447.250000    9981.000000   \n",
       "max      0.968954  4212.000000  307933.00000  251540.000000  115172.000000   \n",
       "\n",
       "       Full_time_year_round    Unemployed  Unemployment_rate         Median  \\\n",
       "count            172.000000    172.000000         172.000000     172.000000   \n",
       "mean           19798.843023   2428.412791           0.068024   40076.744186   \n",
       "std            33229.227514   4121.730452           0.030340   11461.388773   \n",
       "min              111.000000      0.000000           0.000000   22000.000000   \n",
       "25%             2474.750000    299.500000           0.050261   33000.000000   \n",
       "50%             7436.500000    905.000000           0.067544   36000.000000   \n",
       "75%            17674.750000   2397.000000           0.087247   45000.000000   \n",
       "max           199897.000000  28169.000000           0.177226  110000.000000   \n",
       "\n",
       "              P25th          P75th   College_jobs  Non_college_jobs  \\\n",
       "count    172.000000     172.000000     172.000000        172.000000   \n",
       "mean   29486.918605   51386.627907   12387.401163      13354.325581   \n",
       "std     9190.769927   14882.278650   21344.967522      23841.326605   \n",
       "min    18500.000000   22000.000000       0.000000          0.000000   \n",
       "25%    24000.000000   41750.000000    1744.750000       1594.000000   \n",
       "50%    27000.000000   47000.000000    4467.500000       4603.500000   \n",
       "75%    33250.000000   58500.000000   14595.750000      11791.750000   \n",
       "max    95000.000000  125000.000000  151643.000000     148395.000000   \n",
       "\n",
       "       Low_wage_jobs  \n",
       "count     172.000000  \n",
       "mean     3878.633721  \n",
       "std      6960.467621  \n",
       "min         0.000000  \n",
       "25%       336.750000  \n",
       "50%      1238.500000  \n",
       "75%      3496.000000  \n",
       "max     48207.000000  "
      ]
     },
     "execution_count": 404,
     "metadata": {},
     "output_type": "execute_result"
    }
   ],
   "source": [
    "grad_data.describe()"
   ]
  },
  {
   "cell_type": "markdown",
   "metadata": {},
   "source": [
    "As we can see, we have a uniform 172 rows across all columns. Now we can begin to explore and visualize the data. "
   ]
  },
  {
   "cell_type": "markdown",
   "metadata": {},
   "source": [
    "<a id=\"3\"></a>\n",
    "## Objectives\n",
    "As a refresher, our objectives are as follows:\n",
    "- Discovering if students in more popular majors have higher average incomes\n",
    "- Exploring the relationship between gender and average income\n",
    "- Analyzing the connection between major type, employment status, and average income  \n",
    "\n",
    "Analysis for each objective will be broken into sections below. We will be utilizing the functions built below to provide capability to draw a best-fit line for scatterplots (y_pred) and calculating how close the data is to this line using the coefficient of determination (R_squared)."
   ]
  },
  {
   "cell_type": "code",
   "execution_count": 405,
   "metadata": {},
   "outputs": [],
   "source": [
    "def y_pred(X, y):\n",
    "    denominator = X.dot(X) - X.mean() * X.sum()\n",
    "    m = (X.dot(y) - y.mean() * X.sum()) / denominator\n",
    "    b = ( y.mean() * X.dot(X) - X.mean() * X.dot(y)) / denominator\n",
    "    y_pred = m*X + b\n",
    "    return y_pred\n",
    "\n",
    "def R_squared(X, y):\n",
    "    res = y - y_pred(X, y)\n",
    "    tot = y - y.mean()\n",
    "    R_squared = 1 - res.dot(res) / tot.dot(tot)\n",
    "    print(round(100*R_squared, 2), '% of the variation in y can be explained using X')"
   ]
  },
  {
   "cell_type": "markdown",
   "metadata": {},
   "source": [
    "<a id=\"4\"></a>\n",
    "### Discovering if Students in more Popular Majors Have Higher Average Incomes\n",
    "The first question we are looking to answer is if students in more popular majors have higher average incomes. We must first interpret what 'popularity' means and how we gauge that so that our analysis makes sense. Popularity, in this sense, will mean a large magnitude of people practice this major. To build on that definition, a major with a higher total number of graduates is to be considered more popular.\n",
    "\n",
    "We have two columns that help us compare popularity between majors:\n",
    "- __Total__ - Total number of people with major\n",
    "- __Sample_size__ - Sample size (unweighted) of full-time, year-round ONLY (used for earnings)\n",
    "\n",
    "So we have the total number of people with the major which is a more holistic view including, full-time, part-time, and unemployed members. We also have our Sample_size column which is more focused on full-time year round employed members specifically for earnings measurement. \n",
    "\n",
    "Below, we will generate scatterplots to visualize the following correlations:\n",
    "1. Sample_size and Total\n",
    "2. Sample_size and Median Salary\n",
    "3. Total and Median Salary"
   ]
  },
  {
   "cell_type": "code",
   "execution_count": 406,
   "metadata": {},
   "outputs": [
    {
     "data": {
      "text/plain": [
       "<AxesSubplot:title={'center':'Total vs Median Salary'}, xlabel='Total', ylabel='Median'>"
      ]
     },
     "execution_count": 406,
     "metadata": {},
     "output_type": "execute_result"
    },
    {
     "data": {
      "image/png": "[encoded data removed]",
      "text/plain": [
       "<Figure size 576x576 with 1 Axes>"
      ]
     },
     "metadata": {
      "needs_background": "light"
     },
     "output_type": "display_data"
    },
    {
     "data": {
      "image/png": "[encoded data removed]",
      "text/plain": [
       "<Figure size 576x576 with 1 Axes>"
      ]
     },
     "metadata": {
      "needs_background": "light"
     },
     "output_type": "display_data"
    },
    {
     "data": {
      "image/png": "[encoded data removed]",
      "text/plain": [
       "<Figure size 576x576 with 1 Axes>"
      ]
     },
     "metadata": {
      "needs_background": "light"
     },
     "output_type": "display_data"
    }
   ],
   "source": [
    "grad_data.plot(x='Sample_size', y='Total', kind='scatter', title='Correlation between Sample Size and Total of Major Count', figsize=(8,8))\n",
    "grad_data.plot(x='Sample_size', y='Median', kind='scatter', title='Sample Size vs Median Salary', figsize=(8,8))\n",
    "grad_data.plot(x='Total', y='Median', kind='scatter', title='Total vs Median Salary', figsize=(8,8))"
   ]
  },
  {
   "cell_type": "markdown",
   "metadata": {},
   "source": [
    "From the first scatterplot, comparing the sample size versus the total number for each major count, we can see there is a positive correlation: having a higher total, typically, yields a larger sample size, and thus, 'Sample_size' has a strong correlation to 'Total' and to our definition of popularity. \n",
    "\n",
    "With our current view the plots comparing our popularity metrics to median salary, we see:\n",
    "1. The higher our popularity metrics go, there is no consistent pattern of higher median salaries, especially with the average median salary for the dataset being just over 40,000 dollars. \n",
    "2. The data points with lower sample sizes (<1000 people) yield a high amount of volatility as they range between about 20,000 and 110,000 dollars on the Median Salary scale. We would expect less reliability in an accurate median as our sample size decreases. \n",
    "3. The bulk of our data points lie in the lower 25% of the magnitudes of our popularity metrics (Sample_size and Total). The majority of these points are in the 20,000 to 40,000 dollar range. \n",
    "    \n",
    "These scatterplots provide no discernible relationship between higher popularity of these majors and the reported median salaries. Just to be sure, we are going to run a filter on the Sample_size data to zoom in on data with sample sizes under 1000 (the bottom 25%). This contains a bulk of the data and may provide a viewpoint where more can be deduced."
   ]
  },
  {
   "cell_type": "code",
   "execution_count": 407,
   "metadata": {},
   "outputs": [
    {
     "data": {
      "text/plain": [
       "[<matplotlib.lines.Line2D at 0x2830551c550>]"
      ]
     },
     "execution_count": 407,
     "metadata": {},
     "output_type": "execute_result"
    },
    {
     "data": {
      "image/png": "[encoded data removed]",
      "text/plain": [
       "<Figure size 720x720 with 1 Axes>"
      ]
     },
     "metadata": {
      "needs_background": "light"
     },
     "output_type": "display_data"
    }
   ],
   "source": [
    "sample_size_filter = grad_data.loc[:, 'Sample_size'] < 1000\n",
    "sample_under_1000 = grad_data.loc[sample_size_filter, 'Sample_size']\n",
    "median_sample_under_1000 = grad_data.loc[sample_size_filter, 'Median']\n",
    "# sample_under_1000.count()\n",
    "# median_sample_under_1000.count()\n",
    "fig, ax = plt.subplots(figsize=(10,10))\n",
    "ax.scatter(sample_under_1000, median_sample_under_1000)\n",
    "ax.set_xlabel('Sample Size < 1000')\n",
    "ax.set_title('Sample Size < 1000 vs Median Salary')\n",
    "ax.set_ylabel('Median Salary')\n",
    "ax.plot(sample_under_1000, y_pred(sample_under_1000, median_sample_under_1000), 'r')"
   ]
  },
  {
   "cell_type": "code",
   "execution_count": 408,
   "metadata": {},
   "outputs": [
    {
     "name": "stdout",
     "output_type": "stream",
     "text": [
      "2.41 % of the variation in y can be explained using X\n"
     ]
    }
   ],
   "source": [
    "R_squared(sample_under_1000, median_sample_under_1000)"
   ]
  },
  {
   "cell_type": "markdown",
   "metadata": {},
   "source": [
    "Our filter (sample sizes under 1000) left us with 152 data points. Zooming in on the data points where the Sample Size is <1000, we can see the best-fit line (red) shows a slight negative correlation, meaning the smaller the sample size or \"less popularity\", the higher the median salary seems to be on average. As we can see, less than 3% of the variation in our median salary column can be explained or predicted off of our sample size column so the correlation is extremely weak. \n",
    "\n",
    "Let's pivot from our scatterplots and take a look at averages for our columns for the top ~10% of the majors ranked by sample size below to gain more perspective:"
   ]
  },
  {
   "cell_type": "code",
   "execution_count": 409,
   "metadata": {},
   "outputs": [
    {
     "data": {
      "text/plain": [
       "Rank                        84.150000\n",
       "Major_code                4813.400000\n",
       "Total                   189320.600000\n",
       "Men                      80270.950000\n",
       "Women                   109049.650000\n",
       "ShareWomen                   0.549081\n",
       "Sample_size               1820.900000\n",
       "Employed                151610.300000\n",
       "Full_time               128667.400000\n",
       "Part_time                40596.300000\n",
       "Full_time_year_round     98642.350000\n",
       "Unemployed               12015.950000\n",
       "Unemployment_rate            0.073887\n",
       "Median                   39345.000000\n",
       "P25th                    29670.000000\n",
       "P75th                    51100.000000\n",
       "College_jobs             51810.100000\n",
       "Non_college_jobs         66360.450000\n",
       "Low_wage_jobs            18809.200000\n",
       "dtype: float64"
      ]
     },
     "execution_count": 409,
     "metadata": {},
     "output_type": "execute_result"
    }
   ],
   "source": [
    "grad_data.sort_values('Sample_size', ascending=False).head(20).mean()"
   ]
  },
  {
   "cell_type": "markdown",
   "metadata": {},
   "source": [
    "Taking a deeper look at the top 20 majors (roughly the top 10%) in terms of sample size magnitude, we can see the average rank by median earnings is 84 out of 172, barely in the top half. This fact also disputes correlation between popularity of a major and higher median salary.\n",
    "\n",
    "Now we will look at the bottom 20 majors in terms of magnitudes of sample size and the associated averages of the columns."
   ]
  },
  {
   "cell_type": "code",
   "execution_count": 410,
   "metadata": {},
   "outputs": [
    {
     "data": {
      "text/plain": [
       "Rank                       68.700000\n",
       "Major_code               3435.950000\n",
       "Total                    1424.050000\n",
       "Men                       692.800000\n",
       "Women                     731.250000\n",
       "ShareWomen                  0.445907\n",
       "Sample_size                 7.950000\n",
       "Employed                 1068.950000\n",
       "Full_time                 915.000000\n",
       "Part_time                 290.700000\n",
       "Full_time_year_round      686.100000\n",
       "Unemployed                 79.700000\n",
       "Unemployment_rate           0.054396\n",
       "Median                  45550.000000\n",
       "P25th                   35690.000000\n",
       "P75th                   58150.000000\n",
       "College_jobs              634.750000\n",
       "Non_college_jobs          356.450000\n",
       "Low_wage_jobs             119.750000\n",
       "dtype: float64"
      ]
     },
     "execution_count": 410,
     "metadata": {},
     "output_type": "execute_result"
    }
   ],
   "source": [
    "grad_data.sort_values('Sample_size', ascending=True).head(20).mean()"
   ]
  },
  {
   "cell_type": "markdown",
   "metadata": {},
   "source": [
    "Looking at the bottom 20 (~10%) of the list ordered by sample size magnitude, the average rank is 68.7, over ten ranks of improvement compared to the top 20 sample size majors. Granted, the average sample size among these 20 majors is under 8 people, which does not offer a strong amount of confidence that the median salaries for these majors would be consistent with higher sample sizes.\n",
    "\n",
    "Below we will look at the top 10 majors ranked by median salary to see what their average popularity metrics look like and what other relationships they have:"
   ]
  },
  {
   "cell_type": "code",
   "execution_count": 411,
   "metadata": {},
   "outputs": [
    {
     "data": {
      "text/plain": [
       "Rank                        5.500000\n",
       "Major_code               3051.500000\n",
       "Total                   21836.500000\n",
       "Men                     17679.600000\n",
       "Women                    4156.900000\n",
       "ShareWomen                  0.226244\n",
       "Sample_size               208.900000\n",
       "Employed                17438.100000\n",
       "Full_time               15999.700000\n",
       "Part_time                3281.200000\n",
       "Full_time_year_round    12013.400000\n",
       "Unemployed               1113.600000\n",
       "Unemployment_rate           0.068150\n",
       "Median                  70200.000000\n",
       "P25th                   52050.000000\n",
       "P75th                   90000.000000\n",
       "College_jobs            12373.800000\n",
       "Non_college_jobs         3406.800000\n",
       "Low_wage_jobs             836.100000\n",
       "dtype: float64"
      ]
     },
     "execution_count": 411,
     "metadata": {},
     "output_type": "execute_result"
    }
   ],
   "source": [
    "grad_data.head(10).mean()"
   ]
  },
  {
   "cell_type": "markdown",
   "metadata": {},
   "source": [
    "We see the average sample size for the top 10 earning majors is 208.9, slightly over 58% of the average sample size for the entire data set (357.9). Their average Total is 21836 roughly 55% of the average Total for the dataset (39370). \n",
    "\n",
    "Let's look at what these majors with the top 10 earning averages are to try to gain real world perspective."
   ]
  },
  {
   "cell_type": "code",
   "execution_count": 412,
   "metadata": {},
   "outputs": [
    {
     "data": {
      "text/html": [
       "<div>\n",
       "<style scoped>\n",
       "    .dataframe tbody tr th:only-of-type {\n",
       "        vertical-align: middle;\n",
       "    }\n",
       "\n",
       "    .dataframe tbody tr th {\n",
       "        vertical-align: top;\n",
       "    }\n",
       "\n",
       "    .dataframe thead th {\n",
       "        text-align: right;\n",
       "    }\n",
       "</style>\n",
       "<table border=\"1\" class=\"dataframe\">\n",
       "  <thead>\n",
       "    <tr style=\"text-align: right;\">\n",
       "      <th></th>\n",
       "      <th>Rank</th>\n",
       "      <th>Major_code</th>\n",
       "      <th>Major</th>\n",
       "      <th>Total</th>\n",
       "      <th>Men</th>\n",
       "      <th>Women</th>\n",
       "      <th>Major_category</th>\n",
       "      <th>ShareWomen</th>\n",
       "      <th>Sample_size</th>\n",
       "      <th>Employed</th>\n",
       "      <th>...</th>\n",
       "      <th>Part_time</th>\n",
       "      <th>Full_time_year_round</th>\n",
       "      <th>Unemployed</th>\n",
       "      <th>Unemployment_rate</th>\n",
       "      <th>Median</th>\n",
       "      <th>P25th</th>\n",
       "      <th>P75th</th>\n",
       "      <th>College_jobs</th>\n",
       "      <th>Non_college_jobs</th>\n",
       "      <th>Low_wage_jobs</th>\n",
       "    </tr>\n",
       "  </thead>\n",
       "  <tbody>\n",
       "    <tr>\n",
       "      <th>0</th>\n",
       "      <td>1</td>\n",
       "      <td>2419</td>\n",
       "      <td>PETROLEUM ENGINEERING</td>\n",
       "      <td>2339.0</td>\n",
       "      <td>2057.0</td>\n",
       "      <td>282.0</td>\n",
       "      <td>Engineering</td>\n",
       "      <td>0.120564</td>\n",
       "      <td>36</td>\n",
       "      <td>1976</td>\n",
       "      <td>...</td>\n",
       "      <td>270</td>\n",
       "      <td>1207</td>\n",
       "      <td>37</td>\n",
       "      <td>0.018381</td>\n",
       "      <td>110000</td>\n",
       "      <td>95000</td>\n",
       "      <td>125000</td>\n",
       "      <td>1534</td>\n",
       "      <td>364</td>\n",
       "      <td>193</td>\n",
       "    </tr>\n",
       "    <tr>\n",
       "      <th>1</th>\n",
       "      <td>2</td>\n",
       "      <td>2416</td>\n",
       "      <td>MINING AND MINERAL ENGINEERING</td>\n",
       "      <td>756.0</td>\n",
       "      <td>679.0</td>\n",
       "      <td>77.0</td>\n",
       "      <td>Engineering</td>\n",
       "      <td>0.101852</td>\n",
       "      <td>7</td>\n",
       "      <td>640</td>\n",
       "      <td>...</td>\n",
       "      <td>170</td>\n",
       "      <td>388</td>\n",
       "      <td>85</td>\n",
       "      <td>0.117241</td>\n",
       "      <td>75000</td>\n",
       "      <td>55000</td>\n",
       "      <td>90000</td>\n",
       "      <td>350</td>\n",
       "      <td>257</td>\n",
       "      <td>50</td>\n",
       "    </tr>\n",
       "    <tr>\n",
       "      <th>2</th>\n",
       "      <td>3</td>\n",
       "      <td>2415</td>\n",
       "      <td>METALLURGICAL ENGINEERING</td>\n",
       "      <td>856.0</td>\n",
       "      <td>725.0</td>\n",
       "      <td>131.0</td>\n",
       "      <td>Engineering</td>\n",
       "      <td>0.153037</td>\n",
       "      <td>3</td>\n",
       "      <td>648</td>\n",
       "      <td>...</td>\n",
       "      <td>133</td>\n",
       "      <td>340</td>\n",
       "      <td>16</td>\n",
       "      <td>0.024096</td>\n",
       "      <td>73000</td>\n",
       "      <td>50000</td>\n",
       "      <td>105000</td>\n",
       "      <td>456</td>\n",
       "      <td>176</td>\n",
       "      <td>0</td>\n",
       "    </tr>\n",
       "    <tr>\n",
       "      <th>3</th>\n",
       "      <td>4</td>\n",
       "      <td>2417</td>\n",
       "      <td>NAVAL ARCHITECTURE AND MARINE ENGINEERING</td>\n",
       "      <td>1258.0</td>\n",
       "      <td>1123.0</td>\n",
       "      <td>135.0</td>\n",
       "      <td>Engineering</td>\n",
       "      <td>0.107313</td>\n",
       "      <td>16</td>\n",
       "      <td>758</td>\n",
       "      <td>...</td>\n",
       "      <td>150</td>\n",
       "      <td>692</td>\n",
       "      <td>40</td>\n",
       "      <td>0.050125</td>\n",
       "      <td>70000</td>\n",
       "      <td>43000</td>\n",
       "      <td>80000</td>\n",
       "      <td>529</td>\n",
       "      <td>102</td>\n",
       "      <td>0</td>\n",
       "    </tr>\n",
       "    <tr>\n",
       "      <th>4</th>\n",
       "      <td>5</td>\n",
       "      <td>2405</td>\n",
       "      <td>CHEMICAL ENGINEERING</td>\n",
       "      <td>32260.0</td>\n",
       "      <td>21239.0</td>\n",
       "      <td>11021.0</td>\n",
       "      <td>Engineering</td>\n",
       "      <td>0.341631</td>\n",
       "      <td>289</td>\n",
       "      <td>25694</td>\n",
       "      <td>...</td>\n",
       "      <td>5180</td>\n",
       "      <td>16697</td>\n",
       "      <td>1672</td>\n",
       "      <td>0.061098</td>\n",
       "      <td>65000</td>\n",
       "      <td>50000</td>\n",
       "      <td>75000</td>\n",
       "      <td>18314</td>\n",
       "      <td>4440</td>\n",
       "      <td>972</td>\n",
       "    </tr>\n",
       "    <tr>\n",
       "      <th>5</th>\n",
       "      <td>6</td>\n",
       "      <td>2418</td>\n",
       "      <td>NUCLEAR ENGINEERING</td>\n",
       "      <td>2573.0</td>\n",
       "      <td>2200.0</td>\n",
       "      <td>373.0</td>\n",
       "      <td>Engineering</td>\n",
       "      <td>0.144967</td>\n",
       "      <td>17</td>\n",
       "      <td>1857</td>\n",
       "      <td>...</td>\n",
       "      <td>264</td>\n",
       "      <td>1449</td>\n",
       "      <td>400</td>\n",
       "      <td>0.177226</td>\n",
       "      <td>65000</td>\n",
       "      <td>50000</td>\n",
       "      <td>102000</td>\n",
       "      <td>1142</td>\n",
       "      <td>657</td>\n",
       "      <td>244</td>\n",
       "    </tr>\n",
       "    <tr>\n",
       "      <th>6</th>\n",
       "      <td>7</td>\n",
       "      <td>6202</td>\n",
       "      <td>ACTUARIAL SCIENCE</td>\n",
       "      <td>3777.0</td>\n",
       "      <td>2110.0</td>\n",
       "      <td>1667.0</td>\n",
       "      <td>Business</td>\n",
       "      <td>0.441356</td>\n",
       "      <td>51</td>\n",
       "      <td>2912</td>\n",
       "      <td>...</td>\n",
       "      <td>296</td>\n",
       "      <td>2482</td>\n",
       "      <td>308</td>\n",
       "      <td>0.095652</td>\n",
       "      <td>62000</td>\n",
       "      <td>53000</td>\n",
       "      <td>72000</td>\n",
       "      <td>1768</td>\n",
       "      <td>314</td>\n",
       "      <td>259</td>\n",
       "    </tr>\n",
       "    <tr>\n",
       "      <th>7</th>\n",
       "      <td>8</td>\n",
       "      <td>5001</td>\n",
       "      <td>ASTRONOMY AND ASTROPHYSICS</td>\n",
       "      <td>1792.0</td>\n",
       "      <td>832.0</td>\n",
       "      <td>960.0</td>\n",
       "      <td>Physical Sciences</td>\n",
       "      <td>0.535714</td>\n",
       "      <td>10</td>\n",
       "      <td>1526</td>\n",
       "      <td>...</td>\n",
       "      <td>553</td>\n",
       "      <td>827</td>\n",
       "      <td>33</td>\n",
       "      <td>0.021167</td>\n",
       "      <td>62000</td>\n",
       "      <td>31500</td>\n",
       "      <td>109000</td>\n",
       "      <td>972</td>\n",
       "      <td>500</td>\n",
       "      <td>220</td>\n",
       "    </tr>\n",
       "    <tr>\n",
       "      <th>8</th>\n",
       "      <td>9</td>\n",
       "      <td>2414</td>\n",
       "      <td>MECHANICAL ENGINEERING</td>\n",
       "      <td>91227.0</td>\n",
       "      <td>80320.0</td>\n",
       "      <td>10907.0</td>\n",
       "      <td>Engineering</td>\n",
       "      <td>0.119559</td>\n",
       "      <td>1029</td>\n",
       "      <td>76442</td>\n",
       "      <td>...</td>\n",
       "      <td>13101</td>\n",
       "      <td>54639</td>\n",
       "      <td>4650</td>\n",
       "      <td>0.057342</td>\n",
       "      <td>60000</td>\n",
       "      <td>48000</td>\n",
       "      <td>70000</td>\n",
       "      <td>52844</td>\n",
       "      <td>16384</td>\n",
       "      <td>3253</td>\n",
       "    </tr>\n",
       "    <tr>\n",
       "      <th>9</th>\n",
       "      <td>10</td>\n",
       "      <td>2408</td>\n",
       "      <td>ELECTRICAL ENGINEERING</td>\n",
       "      <td>81527.0</td>\n",
       "      <td>65511.0</td>\n",
       "      <td>16016.0</td>\n",
       "      <td>Engineering</td>\n",
       "      <td>0.196450</td>\n",
       "      <td>631</td>\n",
       "      <td>61928</td>\n",
       "      <td>...</td>\n",
       "      <td>12695</td>\n",
       "      <td>41413</td>\n",
       "      <td>3895</td>\n",
       "      <td>0.059174</td>\n",
       "      <td>60000</td>\n",
       "      <td>45000</td>\n",
       "      <td>72000</td>\n",
       "      <td>45829</td>\n",
       "      <td>10874</td>\n",
       "      <td>3170</td>\n",
       "    </tr>\n",
       "  </tbody>\n",
       "</table>\n",
       "<p>10 rows × 21 columns</p>\n",
       "</div>"
      ],
      "text/plain": [
       "   Rank  Major_code                                      Major    Total  \\\n",
       "0     1        2419                      PETROLEUM ENGINEERING   2339.0   \n",
       "1     2        2416             MINING AND MINERAL ENGINEERING    756.0   \n",
       "2     3        2415                  METALLURGICAL ENGINEERING    856.0   \n",
       "3     4        2417  NAVAL ARCHITECTURE AND MARINE ENGINEERING   1258.0   \n",
       "4     5        2405                       CHEMICAL ENGINEERING  32260.0   \n",
       "5     6        2418                        NUCLEAR ENGINEERING   2573.0   \n",
       "6     7        6202                          ACTUARIAL SCIENCE   3777.0   \n",
       "7     8        5001                 ASTRONOMY AND ASTROPHYSICS   1792.0   \n",
       "8     9        2414                     MECHANICAL ENGINEERING  91227.0   \n",
       "9    10        2408                     ELECTRICAL ENGINEERING  81527.0   \n",
       "\n",
       "       Men    Women     Major_category  ShareWomen  Sample_size  Employed  \\\n",
       "0   2057.0    282.0        Engineering    0.120564           36      1976   \n",
       "1    679.0     77.0        Engineering    0.101852            7       640   \n",
       "2    725.0    131.0        Engineering    0.153037            3       648   \n",
       "3   1123.0    135.0        Engineering    0.107313           16       758   \n",
       "4  21239.0  11021.0        Engineering    0.341631          289     25694   \n",
       "5   2200.0    373.0        Engineering    0.144967           17      1857   \n",
       "6   2110.0   1667.0           Business    0.441356           51      2912   \n",
       "7    832.0    960.0  Physical Sciences    0.535714           10      1526   \n",
       "8  80320.0  10907.0        Engineering    0.119559         1029     76442   \n",
       "9  65511.0  16016.0        Engineering    0.196450          631     61928   \n",
       "\n",
       "   ...  Part_time  Full_time_year_round  Unemployed  Unemployment_rate  \\\n",
       "0  ...        270                  1207          37           0.018381   \n",
       "1  ...        170                   388          85           0.117241   \n",
       "2  ...        133                   340          16           0.024096   \n",
       "3  ...        150                   692          40           0.050125   \n",
       "4  ...       5180                 16697        1672           0.061098   \n",
       "5  ...        264                  1449         400           0.177226   \n",
       "6  ...        296                  2482         308           0.095652   \n",
       "7  ...        553                   827          33           0.021167   \n",
       "8  ...      13101                 54639        4650           0.057342   \n",
       "9  ...      12695                 41413        3895           0.059174   \n",
       "\n",
       "   Median  P25th   P75th  College_jobs  Non_college_jobs  Low_wage_jobs  \n",
       "0  110000  95000  125000          1534               364            193  \n",
       "1   75000  55000   90000           350               257             50  \n",
       "2   73000  50000  105000           456               176              0  \n",
       "3   70000  43000   80000           529               102              0  \n",
       "4   65000  50000   75000         18314              4440            972  \n",
       "5   65000  50000  102000          1142               657            244  \n",
       "6   62000  53000   72000          1768               314            259  \n",
       "7   62000  31500  109000           972               500            220  \n",
       "8   60000  48000   70000         52844             16384           3253  \n",
       "9   60000  45000   72000         45829             10874           3170  \n",
       "\n",
       "[10 rows x 21 columns]"
      ]
     },
     "execution_count": 412,
     "metadata": {},
     "output_type": "execute_result"
    }
   ],
   "source": [
    "grad_data.head(10)"
   ]
  },
  {
   "cell_type": "markdown",
   "metadata": {},
   "source": [
    "Looking at the top 10 majors ordered by rank of median salary, we can see 8/10 are Engineering degrees. These are difficult majors that may be popular as a starting point due to the higher salaries graduates typically earn, but are rigorous and usually have a considerable amount of students that switch to less challenging majors. We should expect that the majors with the highest sample sizes would have a reputation as less challenging than more technical majors like engineering. The students follow a path of least resistance to these degrees, adding to the number of students who have already chosen these fields, hence the higher 'popularity'. With that, we will move onto our second objective."
   ]
  },
  {
   "cell_type": "markdown",
   "metadata": {},
   "source": [
    "<a id=\"5\"></a>\n",
    "### Exploring the Relationship Between Gender and Average Income\n",
    "\n",
    "In this portion of the analysis, we will be looking at gender metrics and visualizing their relationship to our earnings data. Our main columns of focus for this objective will be the following:\n",
    "\n",
    "- __Men__ - Male graduates\n",
    "- __Women__ - Female graduates\n",
    "- __ShareWomen__ - Women as share of total\n",
    "- __Median__ - Median earnings of full-time, year-round workers\n",
    "\n",
    "Below, we will generate scatterplots to visualize the following correlations:\n",
    "1. Male Graduates vs Median Salary\n",
    "2. Female Graduates vs Median Salary\n",
    "3. Percentage of Women Graduates as a share of the total vs Median Salary"
   ]
  },
  {
   "cell_type": "code",
   "execution_count": 413,
   "metadata": {},
   "outputs": [
    {
     "data": {
      "text/plain": [
       "[<matplotlib.lines.Line2D at 0x28305576790>]"
      ]
     },
     "execution_count": 413,
     "metadata": {},
     "output_type": "execute_result"
    },
    {
     "data": {
      "image/png": "[encoded data removed]",
      "text/plain": [
       "<Figure size 576x576 with 1 Axes>"
      ]
     },
     "metadata": {
      "needs_background": "light"
     },
     "output_type": "display_data"
    }
   ],
   "source": [
    "fig, ax = plt.subplots(figsize=(8,8))\n",
    "ax.scatter(grad_data.loc[:, 'Men'], grad_data.loc[:, 'Median'])\n",
    "ax.set_xlabel('Number of Male Graduates')\n",
    "ax.set_title('Number of Male Graduates vs Median Salary')\n",
    "ax.set_ylabel('Median Salary ($)')\n",
    "ax.plot(grad_data.loc[:, 'Men'], y_pred(grad_data.loc[:, 'Men'], grad_data.loc[:, 'Median']), 'r')"
   ]
  },
  {
   "cell_type": "code",
   "execution_count": 414,
   "metadata": {},
   "outputs": [
    {
     "name": "stdout",
     "output_type": "stream",
     "text": [
      "0.07 % of the variation in y can be explained using X\n"
     ]
    }
   ],
   "source": [
    "R_squared(grad_data.loc[:, 'Men'], grad_data.loc[:, 'Median'])"
   ]
  },
  {
   "cell_type": "markdown",
   "metadata": {},
   "source": [
    "It would appear from the scatterplot that majors occupied by smaller amounts of Men contain both the highest and lowest average earners. Though there is not a strong relationship between the columns, it would appear that the correlation is slightly positive, suggesting majors with higher amounts of men on average earn more.\n",
    "\n",
    "Next, we will plot the Number of Female Graduates vs Median Salary:"
   ]
  },
  {
   "cell_type": "code",
   "execution_count": 415,
   "metadata": {},
   "outputs": [
    {
     "data": {
      "text/plain": [
       "[<matplotlib.lines.Line2D at 0x283055a46d0>]"
      ]
     },
     "execution_count": 415,
     "metadata": {},
     "output_type": "execute_result"
    },
    {
     "data": {
      "image/png": "[encoded data removed]",
      "text/plain": [
       "<Figure size 576x576 with 1 Axes>"
      ]
     },
     "metadata": {
      "needs_background": "light"
     },
     "output_type": "display_data"
    }
   ],
   "source": [
    "fig, ax = plt.subplots(figsize=(8,8))\n",
    "ax.scatter(grad_data.loc[:, 'Women'], grad_data.loc[:, 'Median'])\n",
    "ax.set_xlabel('Number of Female Graduates')\n",
    "ax.set_title('Number of Female Graduates vs Median Salary')\n",
    "ax.set_ylabel('Median Salary')\n",
    "ax.plot(grad_data.loc[:, 'Women'], y_pred(grad_data.loc[:, 'Women'], grad_data.loc[:, 'Median']), 'r')"
   ]
  },
  {
   "cell_type": "code",
   "execution_count": 416,
   "metadata": {},
   "outputs": [
    {
     "name": "stdout",
     "output_type": "stream",
     "text": [
      "3.34 % of the variation in y can be explained using X\n"
     ]
    }
   ],
   "source": [
    "R_squared(grad_data.loc[:, 'Women'], grad_data.loc[:, 'Median'])"
   ]
  },
  {
   "cell_type": "markdown",
   "metadata": {},
   "source": [
    "Similar to the Men vs Median salary scatterplot, it would appear that majors occupied by smaller amounts of Women contain both the highest and lowest average earners. One interesting distinction we see is the stronger negative correlation between having a higher number of women in a major and a lower average salary. Granted, the correlation is not extremely strong, but it is roughly 47 times stronger than the correlation between the amount of Male Graduates and the Average Median Salary.\n",
    "\n",
    "Neither of the two last plots have given us significant insight regarding our objective of discovering the relationship between gender and average income. Perhaps magnitude of gender is not the metric we need. Rather, the ratio of gender compared with average income may be more telling. To investigate this, we will next plot and analyze a comparison of the percentage of Women in a field versus the Median salary:"
   ]
  },
  {
   "cell_type": "code",
   "execution_count": 417,
   "metadata": {},
   "outputs": [
    {
     "data": {
      "text/plain": [
       "[<matplotlib.lines.Line2D at 0x28305622fd0>]"
      ]
     },
     "execution_count": 417,
     "metadata": {},
     "output_type": "execute_result"
    },
    {
     "data": {
      "image/png": "[encoded data removed]",
      "text/plain": [
       "<Figure size 720x720 with 1 Axes>"
      ]
     },
     "metadata": {
      "needs_background": "light"
     },
     "output_type": "display_data"
    }
   ],
   "source": [
    "grad_data.loc[:, 'ShareWomen'] = grad_data.loc[:, 'ShareWomen'] * 100\n",
    "fig, ax = plt.subplots(figsize=(10,10))\n",
    "ax.scatter(grad_data.loc[:, 'ShareWomen'], grad_data.loc[:, 'Median'])\n",
    "ax.set_xlabel('Percentage of Women with Major (%)')\n",
    "ax.set_title('Percentage of Women with a Major vs Median Salary')\n",
    "ax.set_ylabel('Median Salary')\n",
    "ax.plot(grad_data.loc[:, 'ShareWomen'], y_pred(grad_data.loc[:, 'ShareWomen'], grad_data.loc[:, 'Median']), 'r')"
   ]
  },
  {
   "cell_type": "code",
   "execution_count": 418,
   "metadata": {},
   "outputs": [
    {
     "name": "stdout",
     "output_type": "stream",
     "text": [
      "38.28 % of the variation in y can be explained using X\n"
     ]
    }
   ],
   "source": [
    "R_squared(grad_data.loc[:, 'ShareWomen'], grad_data.loc[:, 'Median'])"
   ]
  },
  {
   "cell_type": "markdown",
   "metadata": {},
   "source": [
    "We multiplied the 'ShareWomen' column by 100 so it can be read more clearly as a percentage. As we can see, there is a much clearer relationship on display here than the past two plots. The data shows that a major with a larger percentage of women, typically, has a lower median salary. This also directly implies the inverse, that majors with higher percentages of men have higher average earnings.\n",
    "\n",
    "Exploring the income situation for women further, we will next establish a new column, 'low_income_percentage' which is defined as the number in low-wage service jobs divided by the total number of people with the major (multipled by 100 to be read more clearly as a percentage). We will compare this column with the 'ShareWomen' column below:"
   ]
  },
  {
   "cell_type": "code",
   "execution_count": 419,
   "metadata": {},
   "outputs": [
    {
     "data": {
      "text/plain": [
       "[<matplotlib.lines.Line2D at 0x28305684670>]"
      ]
     },
     "execution_count": 419,
     "metadata": {},
     "output_type": "execute_result"
    },
    {
     "data": {
      "image/png": "[encoded data removed]",
      "text/plain": [
       "<Figure size 720x720 with 1 Axes>"
      ]
     },
     "metadata": {
      "needs_background": "light"
     },
     "output_type": "display_data"
    }
   ],
   "source": [
    "grad_data.loc[:, 'low_income_percentage'] = 100 * (grad_data.loc[:, 'Low_wage_jobs'] / grad_data.loc[:, 'Total'])\n",
    "fig, ax = plt.subplots(figsize=(10,10))\n",
    "ax.scatter(grad_data.loc[:, 'ShareWomen'], grad_data.loc[:, 'low_income_percentage'])\n",
    "ax.set_xlabel('Percentage of Women with Major (%)')\n",
    "ax.set_title('Percentage of Women with a Major vs Low Wage Jobs Percentage')\n",
    "ax.set_ylabel('Low Wage Jobs (%)')\n",
    "ax.plot(grad_data.loc[:, 'ShareWomen'], y_pred(grad_data.loc[:, 'ShareWomen'], grad_data.loc[:, 'low_income_percentage']), 'r')"
   ]
  },
  {
   "cell_type": "code",
   "execution_count": 420,
   "metadata": {},
   "outputs": [
    {
     "name": "stdout",
     "output_type": "stream",
     "text": [
      "13.63 % of the variation in y can be explained using X\n"
     ]
    }
   ],
   "source": [
    "R_squared(grad_data.loc[:, 'ShareWomen'], grad_data.loc[:, 'low_income_percentage'])"
   ]
  },
  {
   "cell_type": "markdown",
   "metadata": {},
   "source": [
    "This comparison shows a positive correlation between majors that have higher percentages of women containing more low wage jobs as a percentage of the total amount of people with the major. \n",
    "\n",
    "We have established a connection between higher percentages of women in a major, lower median salary, and higher amounts of low income jobs. To take this a step further, we will next plot the Share of Women vs the Unemployment Percentage."
   ]
  },
  {
   "cell_type": "code",
   "execution_count": 421,
   "metadata": {},
   "outputs": [
    {
     "data": {
      "text/plain": [
       "[<matplotlib.lines.Line2D at 0x283056e2340>]"
      ]
     },
     "execution_count": 421,
     "metadata": {},
     "output_type": "execute_result"
    },
    {
     "data": {
      "image/png": "[encoded data removed]",
      "text/plain": [
       "<Figure size 720x720 with 1 Axes>"
      ]
     },
     "metadata": {
      "needs_background": "light"
     },
     "output_type": "display_data"
    }
   ],
   "source": [
    "grad_data.loc[:, 'Unemployment_rate'] = 100 * grad_data.loc[:, 'Unemployment_rate']\n",
    "fig, ax = plt.subplots(figsize=(10,10))\n",
    "ax.set_xlabel('Share of Women (%)')\n",
    "ax.set_title('Share of Women vs. Unemployment Rate')\n",
    "ax.set_ylabel('Unemployment Rate (%)')\n",
    "ax.scatter(grad_data.loc[:, 'ShareWomen'], grad_data.loc[:, 'Unemployment_rate'])\n",
    "ax.plot(grad_data.loc[:, 'ShareWomen'], y_pred(grad_data.loc[:, 'ShareWomen'], grad_data.loc[:, 'Unemployment_rate']), 'r')"
   ]
  },
  {
   "cell_type": "code",
   "execution_count": 422,
   "metadata": {},
   "outputs": [
    {
     "name": "stdout",
     "output_type": "stream",
     "text": [
      "0.54 % of the variation in y can be explained using X\n"
     ]
    }
   ],
   "source": [
    "R_squared(grad_data.loc[:, 'ShareWomen'], grad_data.loc[:, 'Unemployment_rate'])"
   ]
  },
  {
   "cell_type": "markdown",
   "metadata": {},
   "source": [
    "There is a fairly even distribution across the spectrum of unemployment rate correlated with the percentage of women involved. No clear relationship exists that can be seen in this direct compare.\n",
    "\n",
    "From our analysis on the relationship in this dataset between gender and average income, we see a trend of women being in a less favorable financial position when compared to men. It would be interesting to see a breakdown of salaries reported from each major by anonymous individuals to see how deep the disparity is between men and women from this study and to see if this has held true since 2012."
   ]
  },
  {
   "cell_type": "markdown",
   "metadata": {},
   "source": [
    "<a id=\"6\"></a>\n",
    "### Analyzing the Connection Between Major Type, Employment Status, and Average income\n",
    "Now we will move onto our final objective for this analysis: Analyzing the connection between Major Category, Employment Status, and Average income. To accomplish this, we will narrow in on the following columns from the dataset:\n",
    "\n",
    "- __Major_category__ - Category of major from Carnevale et al\n",
    "- __Total__ - Total number of people with major\n",
    "- __Sample_size__ - Sample size (unweighted) of full-time, year-round ONLY (used for earnings)\n",
    "- __Employed__ - Number employed (ESR == 1 or 2)\n",
    "- __Full_time__ - Employed 35 hours or more\n",
    "- __Part_time__ - Employed less than 35 hours\n",
    "- __Full_time_year_round__ - Employed at least 50 weeks (WKW == 1) and at least 35 hours (WKHP >= 35)\n",
    "- __Unemployed__ - Number unemployed (ESR == 3)\n",
    "- __Unemployment_rate__ - Unemployed / (Unemployed + Employed)\n",
    "- __Median__ - Median earnings of full-time, year-round workers\n",
    "  \n",
    "We will take a number of steps to visualize the relationships:\n",
    "1. [Let's start by building a new dataframe centered around major categories, this will contain aggregations of the data from each major that is in a particular major category. These aggregations will contain:](#3-1)\n",
    "    - sums of pertinent magnitude based data from our grad_data dataframe ('Total', 'Sample_size', 'Employed', 'Full_time', 'Part_time', 'Full_time_year_round', 'Unemployed')\n",
    "    - means of percent based data from our 'grad_data' dataframe ('Median' and 'Unemployment_rate')\n",
    "    - synthesized percentages from the new magnitudes divided by the new totals\n",
    "    - We will then display all new rows of our dataframe and associated statistical information\n",
    "2. [We will then display the breakdown of the different metrics of the Major Categories, including:](#3-2)\n",
    "    - The count of majors in each Major Category\n",
    "    - The frequency distribution of Median Salaries\n",
    "    - The side-by-side view of Median Salary by Major Category\n",
    "3. [Next we will explore the connection between Unemployment Rate and Median Salaries Across the Major Categories](#3-3)\n",
    "4. [Finally we will explore Full-Time Employment, Part-Time Employment, and Median Salary Comparison across Major Categories](#3-4)"
   ]
  },
  {
   "cell_type": "markdown",
   "metadata": {},
   "source": [
    "<a id=\"3-1\"></a>\n",
    "### Building The Major Categories Dataframe"
   ]
  },
  {
   "cell_type": "code",
   "execution_count": 423,
   "metadata": {},
   "outputs": [
    {
     "data": {
      "text/html": [
       "<div>\n",
       "<style scoped>\n",
       "    .dataframe tbody tr th:only-of-type {\n",
       "        vertical-align: middle;\n",
       "    }\n",
       "\n",
       "    .dataframe tbody tr th {\n",
       "        vertical-align: top;\n",
       "    }\n",
       "\n",
       "    .dataframe thead th {\n",
       "        text-align: right;\n",
       "    }\n",
       "</style>\n",
       "<table border=\"1\" class=\"dataframe\">\n",
       "  <thead>\n",
       "    <tr style=\"text-align: right;\">\n",
       "      <th></th>\n",
       "      <th>count</th>\n",
       "      <th>Median</th>\n",
       "      <th>Unemployment_rate</th>\n",
       "      <th>Total</th>\n",
       "      <th>Sample_size</th>\n",
       "      <th>Employed</th>\n",
       "      <th>Full_time</th>\n",
       "      <th>Part_time</th>\n",
       "      <th>Full_time_year_round</th>\n",
       "      <th>Unemployed</th>\n",
       "      <th>Full_time_percent</th>\n",
       "      <th>Part_time_percent</th>\n",
       "      <th>Full_time_year_round_percent</th>\n",
       "    </tr>\n",
       "  </thead>\n",
       "  <tbody>\n",
       "    <tr>\n",
       "      <th>Engineering</th>\n",
       "      <td>29</td>\n",
       "      <td>57382.758621</td>\n",
       "      <td>6.333388</td>\n",
       "      <td>537583.0</td>\n",
       "      <td>4926</td>\n",
       "      <td>420372</td>\n",
       "      <td>381867</td>\n",
       "      <td>85136</td>\n",
       "      <td>288952</td>\n",
       "      <td>29817</td>\n",
       "      <td>71.034054</td>\n",
       "      <td>15.836810</td>\n",
       "      <td>53.750212</td>\n",
       "    </tr>\n",
       "    <tr>\n",
       "      <th>Business</th>\n",
       "      <td>13</td>\n",
       "      <td>43538.461538</td>\n",
       "      <td>7.106354</td>\n",
       "      <td>1302376.0</td>\n",
       "      <td>15505</td>\n",
       "      <td>1088742</td>\n",
       "      <td>988870</td>\n",
       "      <td>196936</td>\n",
       "      <td>790425</td>\n",
       "      <td>79877</td>\n",
       "      <td>75.928150</td>\n",
       "      <td>15.121286</td>\n",
       "      <td>60.690999</td>\n",
       "    </tr>\n",
       "    <tr>\n",
       "      <th>Physical Sciences</th>\n",
       "      <td>10</td>\n",
       "      <td>41890.000000</td>\n",
       "      <td>4.651108</td>\n",
       "      <td>185479.0</td>\n",
       "      <td>1137</td>\n",
       "      <td>139231</td>\n",
       "      <td>112852</td>\n",
       "      <td>43444</td>\n",
       "      <td>85635</td>\n",
       "      <td>7880</td>\n",
       "      <td>60.843546</td>\n",
       "      <td>23.422598</td>\n",
       "      <td>46.169647</td>\n",
       "    </tr>\n",
       "    <tr>\n",
       "      <th>Law &amp; Public Policy</th>\n",
       "      <td>5</td>\n",
       "      <td>42200.000000</td>\n",
       "      <td>9.080476</td>\n",
       "      <td>179107.0</td>\n",
       "      <td>1935</td>\n",
       "      <td>144790</td>\n",
       "      <td>126940</td>\n",
       "      <td>38213</td>\n",
       "      <td>100454</td>\n",
       "      <td>13495</td>\n",
       "      <td>70.873835</td>\n",
       "      <td>21.335291</td>\n",
       "      <td>56.086027</td>\n",
       "    </tr>\n",
       "    <tr>\n",
       "      <th>Computers &amp; Mathematics</th>\n",
       "      <td>11</td>\n",
       "      <td>42745.454545</td>\n",
       "      <td>8.425599</td>\n",
       "      <td>299008.0</td>\n",
       "      <td>2860</td>\n",
       "      <td>237894</td>\n",
       "      <td>207545</td>\n",
       "      <td>53270</td>\n",
       "      <td>159156</td>\n",
       "      <td>18373</td>\n",
       "      <td>69.411186</td>\n",
       "      <td>17.815577</td>\n",
       "      <td>53.228007</td>\n",
       "    </tr>\n",
       "    <tr>\n",
       "      <th>Industrial Arts &amp; Consumer Services</th>\n",
       "      <td>7</td>\n",
       "      <td>36342.857143</td>\n",
       "      <td>4.807134</td>\n",
       "      <td>229792.0</td>\n",
       "      <td>2165</td>\n",
       "      <td>189043</td>\n",
       "      <td>151383</td>\n",
       "      <td>61122</td>\n",
       "      <td>114179</td>\n",
       "      <td>11526</td>\n",
       "      <td>65.878273</td>\n",
       "      <td>26.598837</td>\n",
       "      <td>49.687979</td>\n",
       "    </tr>\n",
       "    <tr>\n",
       "      <th>Arts</th>\n",
       "      <td>8</td>\n",
       "      <td>33062.500000</td>\n",
       "      <td>9.017270</td>\n",
       "      <td>357130.0</td>\n",
       "      <td>3260</td>\n",
       "      <td>288114</td>\n",
       "      <td>207773</td>\n",
       "      <td>114791</td>\n",
       "      <td>153111</td>\n",
       "      <td>28228</td>\n",
       "      <td>58.178534</td>\n",
       "      <td>32.142637</td>\n",
       "      <td>42.872623</td>\n",
       "    </tr>\n",
       "    <tr>\n",
       "      <th>Health</th>\n",
       "      <td>12</td>\n",
       "      <td>36825.000000</td>\n",
       "      <td>6.592017</td>\n",
       "      <td>463230.0</td>\n",
       "      <td>3914</td>\n",
       "      <td>372147</td>\n",
       "      <td>294819</td>\n",
       "      <td>114592</td>\n",
       "      <td>228418</td>\n",
       "      <td>22213</td>\n",
       "      <td>63.644194</td>\n",
       "      <td>24.737603</td>\n",
       "      <td>49.309846</td>\n",
       "    </tr>\n",
       "    <tr>\n",
       "      <th>Social Science</th>\n",
       "      <td>9</td>\n",
       "      <td>37344.444444</td>\n",
       "      <td>9.572883</td>\n",
       "      <td>529966.0</td>\n",
       "      <td>4581</td>\n",
       "      <td>401493</td>\n",
       "      <td>347141</td>\n",
       "      <td>121569</td>\n",
       "      <td>255219</td>\n",
       "      <td>42975</td>\n",
       "      <td>65.502504</td>\n",
       "      <td>22.939019</td>\n",
       "      <td>48.157618</td>\n",
       "    </tr>\n",
       "    <tr>\n",
       "      <th>Biology &amp; Life Science</th>\n",
       "      <td>14</td>\n",
       "      <td>36421.428571</td>\n",
       "      <td>6.091776</td>\n",
       "      <td>453862.0</td>\n",
       "      <td>2317</td>\n",
       "      <td>302797</td>\n",
       "      <td>240377</td>\n",
       "      <td>116736</td>\n",
       "      <td>165802</td>\n",
       "      <td>22854</td>\n",
       "      <td>52.962575</td>\n",
       "      <td>25.720593</td>\n",
       "      <td>36.531369</td>\n",
       "    </tr>\n",
       "    <tr>\n",
       "      <th>Education</th>\n",
       "      <td>16</td>\n",
       "      <td>32350.000000</td>\n",
       "      <td>5.170197</td>\n",
       "      <td>559129.0</td>\n",
       "      <td>4742</td>\n",
       "      <td>479839</td>\n",
       "      <td>398059</td>\n",
       "      <td>120593</td>\n",
       "      <td>288031</td>\n",
       "      <td>24969</td>\n",
       "      <td>71.192694</td>\n",
       "      <td>21.568010</td>\n",
       "      <td>51.514230</td>\n",
       "    </tr>\n",
       "    <tr>\n",
       "      <th>Agriculture &amp; Natural Resources</th>\n",
       "      <td>9</td>\n",
       "      <td>35111.111111</td>\n",
       "      <td>5.181685</td>\n",
       "      <td>75620.0</td>\n",
       "      <td>1068</td>\n",
       "      <td>63794</td>\n",
       "      <td>55585</td>\n",
       "      <td>15470</td>\n",
       "      <td>41891</td>\n",
       "      <td>3486</td>\n",
       "      <td>73.505686</td>\n",
       "      <td>20.457551</td>\n",
       "      <td>55.396720</td>\n",
       "    </tr>\n",
       "    <tr>\n",
       "      <th>Humanities &amp; Liberal Arts</th>\n",
       "      <td>15</td>\n",
       "      <td>31913.333333</td>\n",
       "      <td>8.100762</td>\n",
       "      <td>713468.0</td>\n",
       "      <td>5340</td>\n",
       "      <td>544118</td>\n",
       "      <td>416939</td>\n",
       "      <td>214030</td>\n",
       "      <td>295561</td>\n",
       "      <td>51101</td>\n",
       "      <td>58.438360</td>\n",
       "      <td>29.998542</td>\n",
       "      <td>41.425964</td>\n",
       "    </tr>\n",
       "    <tr>\n",
       "      <th>Psychology &amp; Social Work</th>\n",
       "      <td>9</td>\n",
       "      <td>30100.000000</td>\n",
       "      <td>7.206476</td>\n",
       "      <td>481007.0</td>\n",
       "      <td>3180</td>\n",
       "      <td>380344</td>\n",
       "      <td>289000</td>\n",
       "      <td>137992</td>\n",
       "      <td>218105</td>\n",
       "      <td>33292</td>\n",
       "      <td>60.082286</td>\n",
       "      <td>28.688148</td>\n",
       "      <td>45.343415</td>\n",
       "    </tr>\n",
       "    <tr>\n",
       "      <th>Communications &amp; Journalism</th>\n",
       "      <td>4</td>\n",
       "      <td>34500.000000</td>\n",
       "      <td>7.553775</td>\n",
       "      <td>392601.0</td>\n",
       "      <td>4508</td>\n",
       "      <td>330660</td>\n",
       "      <td>273330</td>\n",
       "      <td>89817</td>\n",
       "      <td>214228</td>\n",
       "      <td>26852</td>\n",
       "      <td>69.620302</td>\n",
       "      <td>22.877425</td>\n",
       "      <td>54.566341</td>\n",
       "    </tr>\n",
       "    <tr>\n",
       "      <th>Interdisciplinary</th>\n",
       "      <td>1</td>\n",
       "      <td>35000.000000</td>\n",
       "      <td>7.086093</td>\n",
       "      <td>12296.0</td>\n",
       "      <td>128</td>\n",
       "      <td>9821</td>\n",
       "      <td>8032</td>\n",
       "      <td>3173</td>\n",
       "      <td>6234</td>\n",
       "      <td>749</td>\n",
       "      <td>65.322056</td>\n",
       "      <td>25.805140</td>\n",
       "      <td>50.699414</td>\n",
       "    </tr>\n",
       "  </tbody>\n",
       "</table>\n",
       "</div>"
      ],
      "text/plain": [
       "                                     count        Median  Unemployment_rate  \\\n",
       "Engineering                             29  57382.758621           6.333388   \n",
       "Business                                13  43538.461538           7.106354   \n",
       "Physical Sciences                       10  41890.000000           4.651108   \n",
       "Law & Public Policy                      5  42200.000000           9.080476   \n",
       "Computers & Mathematics                 11  42745.454545           8.425599   \n",
       "Industrial Arts & Consumer Services      7  36342.857143           4.807134   \n",
       "Arts                                     8  33062.500000           9.017270   \n",
       "Health                                  12  36825.000000           6.592017   \n",
       "Social Science                           9  37344.444444           9.572883   \n",
       "Biology & Life Science                  14  36421.428571           6.091776   \n",
       "Education                               16  32350.000000           5.170197   \n",
       "Agriculture & Natural Resources          9  35111.111111           5.181685   \n",
       "Humanities & Liberal Arts               15  31913.333333           8.100762   \n",
       "Psychology & Social Work                 9  30100.000000           7.206476   \n",
       "Communications & Journalism              4  34500.000000           7.553775   \n",
       "Interdisciplinary                        1  35000.000000           7.086093   \n",
       "\n",
       "                                         Total  Sample_size  Employed  \\\n",
       "Engineering                           537583.0         4926    420372   \n",
       "Business                             1302376.0        15505   1088742   \n",
       "Physical Sciences                     185479.0         1137    139231   \n",
       "Law & Public Policy                   179107.0         1935    144790   \n",
       "Computers & Mathematics               299008.0         2860    237894   \n",
       "Industrial Arts & Consumer Services   229792.0         2165    189043   \n",
       "Arts                                  357130.0         3260    288114   \n",
       "Health                                463230.0         3914    372147   \n",
       "Social Science                        529966.0         4581    401493   \n",
       "Biology & Life Science                453862.0         2317    302797   \n",
       "Education                             559129.0         4742    479839   \n",
       "Agriculture & Natural Resources        75620.0         1068     63794   \n",
       "Humanities & Liberal Arts             713468.0         5340    544118   \n",
       "Psychology & Social Work              481007.0         3180    380344   \n",
       "Communications & Journalism           392601.0         4508    330660   \n",
       "Interdisciplinary                      12296.0          128      9821   \n",
       "\n",
       "                                     Full_time  Part_time  \\\n",
       "Engineering                             381867      85136   \n",
       "Business                                988870     196936   \n",
       "Physical Sciences                       112852      43444   \n",
       "Law & Public Policy                     126940      38213   \n",
       "Computers & Mathematics                 207545      53270   \n",
       "Industrial Arts & Consumer Services     151383      61122   \n",
       "Arts                                    207773     114791   \n",
       "Health                                  294819     114592   \n",
       "Social Science                          347141     121569   \n",
       "Biology & Life Science                  240377     116736   \n",
       "Education                               398059     120593   \n",
       "Agriculture & Natural Resources          55585      15470   \n",
       "Humanities & Liberal Arts               416939     214030   \n",
       "Psychology & Social Work                289000     137992   \n",
       "Communications & Journalism             273330      89817   \n",
       "Interdisciplinary                         8032       3173   \n",
       "\n",
       "                                     Full_time_year_round  Unemployed  \\\n",
       "Engineering                                        288952       29817   \n",
       "Business                                           790425       79877   \n",
       "Physical Sciences                                   85635        7880   \n",
       "Law & Public Policy                                100454       13495   \n",
       "Computers & Mathematics                            159156       18373   \n",
       "Industrial Arts & Consumer Services                114179       11526   \n",
       "Arts                                               153111       28228   \n",
       "Health                                             228418       22213   \n",
       "Social Science                                     255219       42975   \n",
       "Biology & Life Science                             165802       22854   \n",
       "Education                                          288031       24969   \n",
       "Agriculture & Natural Resources                     41891        3486   \n",
       "Humanities & Liberal Arts                          295561       51101   \n",
       "Psychology & Social Work                           218105       33292   \n",
       "Communications & Journalism                        214228       26852   \n",
       "Interdisciplinary                                    6234         749   \n",
       "\n",
       "                                     Full_time_percent  Part_time_percent  \\\n",
       "Engineering                                  71.034054          15.836810   \n",
       "Business                                     75.928150          15.121286   \n",
       "Physical Sciences                            60.843546          23.422598   \n",
       "Law & Public Policy                          70.873835          21.335291   \n",
       "Computers & Mathematics                      69.411186          17.815577   \n",
       "Industrial Arts & Consumer Services          65.878273          26.598837   \n",
       "Arts                                         58.178534          32.142637   \n",
       "Health                                       63.644194          24.737603   \n",
       "Social Science                               65.502504          22.939019   \n",
       "Biology & Life Science                       52.962575          25.720593   \n",
       "Education                                    71.192694          21.568010   \n",
       "Agriculture & Natural Resources              73.505686          20.457551   \n",
       "Humanities & Liberal Arts                    58.438360          29.998542   \n",
       "Psychology & Social Work                     60.082286          28.688148   \n",
       "Communications & Journalism                  69.620302          22.877425   \n",
       "Interdisciplinary                            65.322056          25.805140   \n",
       "\n",
       "                                     Full_time_year_round_percent  \n",
       "Engineering                                             53.750212  \n",
       "Business                                                60.690999  \n",
       "Physical Sciences                                       46.169647  \n",
       "Law & Public Policy                                     56.086027  \n",
       "Computers & Mathematics                                 53.228007  \n",
       "Industrial Arts & Consumer Services                     49.687979  \n",
       "Arts                                                    42.872623  \n",
       "Health                                                  49.309846  \n",
       "Social Science                                          48.157618  \n",
       "Biology & Life Science                                  36.531369  \n",
       "Education                                               51.514230  \n",
       "Agriculture & Natural Resources                         55.396720  \n",
       "Humanities & Liberal Arts                               41.425964  \n",
       "Psychology & Social Work                                45.343415  \n",
       "Communications & Journalism                             54.566341  \n",
       "Interdisciplinary                                       50.699414  "
      ]
     },
     "execution_count": 423,
     "metadata": {},
     "output_type": "execute_result"
    }
   ],
   "source": [
    "maj_cat_list = grad_data.loc[:, 'Major_category'].unique()\n",
    "maj_cat_temp = {}\n",
    "relevant_columns_sum = ['Total', 'Sample_size', 'Employed', 'Full_time', 'Part_time', 'Full_time_year_round', 'Unemployed']\n",
    "relevant_columns_percent = ['Full_time', 'Part_time', 'Full_time_year_round']\n",
    "relevant_columns_mean = ['Median', 'Unemployment_rate']\n",
    "\n",
    "for m in maj_cat_list:\n",
    "    maj_cat_temp[m] = grad_data.loc[grad_data.loc[:, 'Major_category'] == m, 'Major_category'].count()\n",
    "\n",
    "major_category_series = pd.Series(maj_cat_temp)\n",
    "major_category_df = pd.DataFrame(major_category_series, columns=['count'])\n",
    "\n",
    "for c in relevant_columns_mean:\n",
    "    for m in major_cat_list:\n",
    "        maj_cat_temp[m] = grad_data.loc[grad_data.loc[:, 'Major_category'] == m, c].mean()\n",
    "    temp_series = pd.Series(maj_cat_temp)\n",
    "    major_category_df[c] = temp_series\n",
    "    \n",
    "for c in relevant_columns_sum:\n",
    "    for m in major_cat_list:\n",
    "        maj_cat_temp[m] = grad_data.loc[grad_data.loc[:, 'Major_category'] == m, c].sum()\n",
    "    temp_series = pd.Series(maj_cat_temp)\n",
    "    major_category_df[c] = temp_series\n",
    "    \n",
    "for c in relevant_columns_percent:\n",
    "    for m in major_cat_list:\n",
    "        maj_cat_temp[m] = grad_data.loc[grad_data.loc[:, 'Major_category'] == m, c].sum() / major_category_df.loc[m, 'Total'] * 100\n",
    "    temp_series = pd.Series(maj_cat_temp)\n",
    "    percent_name = c + '_percent'\n",
    "    major_category_df[percent_name] = temp_series\n",
    "    \n",
    "major_category_df.head(16)"
   ]
  },
  {
   "cell_type": "code",
   "execution_count": 424,
   "metadata": {},
   "outputs": [
    {
     "data": {
      "text/html": [
       "<div>\n",
       "<style scoped>\n",
       "    .dataframe tbody tr th:only-of-type {\n",
       "        vertical-align: middle;\n",
       "    }\n",
       "\n",
       "    .dataframe tbody tr th {\n",
       "        vertical-align: top;\n",
       "    }\n",
       "\n",
       "    .dataframe thead th {\n",
       "        text-align: right;\n",
       "    }\n",
       "</style>\n",
       "<table border=\"1\" class=\"dataframe\">\n",
       "  <thead>\n",
       "    <tr style=\"text-align: right;\">\n",
       "      <th></th>\n",
       "      <th>count</th>\n",
       "      <th>Median</th>\n",
       "      <th>Unemployment_rate</th>\n",
       "      <th>Total</th>\n",
       "      <th>Sample_size</th>\n",
       "      <th>Employed</th>\n",
       "      <th>Full_time</th>\n",
       "      <th>Part_time</th>\n",
       "      <th>Full_time_year_round</th>\n",
       "      <th>Unemployed</th>\n",
       "      <th>Full_time_percent</th>\n",
       "      <th>Part_time_percent</th>\n",
       "      <th>Full_time_year_round_percent</th>\n",
       "    </tr>\n",
       "  </thead>\n",
       "  <tbody>\n",
       "    <tr>\n",
       "      <th>count</th>\n",
       "      <td>16.000000</td>\n",
       "      <td>16.000000</td>\n",
       "      <td>16.000000</td>\n",
       "      <td>1.600000e+01</td>\n",
       "      <td>16.000000</td>\n",
       "      <td>1.600000e+01</td>\n",
       "      <td>16.000000</td>\n",
       "      <td>16.000000</td>\n",
       "      <td>16.000000</td>\n",
       "      <td>16.000000</td>\n",
       "      <td>16.000000</td>\n",
       "      <td>16.000000</td>\n",
       "      <td>16.000000</td>\n",
       "    </tr>\n",
       "    <tr>\n",
       "      <th>mean</th>\n",
       "      <td>10.750000</td>\n",
       "      <td>37920.459332</td>\n",
       "      <td>6.998562</td>\n",
       "      <td>4.232284e+05</td>\n",
       "      <td>3847.875000</td>\n",
       "      <td>3.370749e+05</td>\n",
       "      <td>281282.000000</td>\n",
       "      <td>95430.250000</td>\n",
       "      <td>212837.562500</td>\n",
       "      <td>26105.437500</td>\n",
       "      <td>65.776140</td>\n",
       "      <td>23.441567</td>\n",
       "      <td>49.714401</td>\n",
       "    </tr>\n",
       "    <tr>\n",
       "      <th>std</th>\n",
       "      <td>6.329824</td>\n",
       "      <td>6602.823053</td>\n",
       "      <td>1.571530</td>\n",
       "      <td>3.022061e+05</td>\n",
       "      <td>3469.589118</td>\n",
       "      <td>2.497598e+05</td>\n",
       "      <td>224300.954534</td>\n",
       "      <td>59254.599581</td>\n",
       "      <td>177591.222758</td>\n",
       "      <td>19691.569763</td>\n",
       "      <td>6.382856</td>\n",
       "      <td>4.794378</td>\n",
       "      <td>6.182316</td>\n",
       "    </tr>\n",
       "    <tr>\n",
       "      <th>min</th>\n",
       "      <td>1.000000</td>\n",
       "      <td>30100.000000</td>\n",
       "      <td>4.651108</td>\n",
       "      <td>1.229600e+04</td>\n",
       "      <td>128.000000</td>\n",
       "      <td>9.821000e+03</td>\n",
       "      <td>8032.000000</td>\n",
       "      <td>3173.000000</td>\n",
       "      <td>6234.000000</td>\n",
       "      <td>749.000000</td>\n",
       "      <td>52.962575</td>\n",
       "      <td>15.121286</td>\n",
       "      <td>36.531369</td>\n",
       "    </tr>\n",
       "    <tr>\n",
       "      <th>25%</th>\n",
       "      <td>7.750000</td>\n",
       "      <td>34140.625000</td>\n",
       "      <td>5.864253</td>\n",
       "      <td>2.187138e+05</td>\n",
       "      <td>2107.500000</td>\n",
       "      <td>1.779798e+05</td>\n",
       "      <td>145272.250000</td>\n",
       "      <td>50813.500000</td>\n",
       "      <td>110747.750000</td>\n",
       "      <td>13002.750000</td>\n",
       "      <td>60.653231</td>\n",
       "      <td>21.115856</td>\n",
       "      <td>45.963089</td>\n",
       "    </tr>\n",
       "    <tr>\n",
       "      <th>50%</th>\n",
       "      <td>9.500000</td>\n",
       "      <td>36382.142857</td>\n",
       "      <td>7.096223</td>\n",
       "      <td>4.232315e+05</td>\n",
       "      <td>3220.000000</td>\n",
       "      <td>3.167285e+05</td>\n",
       "      <td>256853.500000</td>\n",
       "      <td>102204.500000</td>\n",
       "      <td>190015.000000</td>\n",
       "      <td>23911.500000</td>\n",
       "      <td>65.690388</td>\n",
       "      <td>23.180808</td>\n",
       "      <td>50.193697</td>\n",
       "    </tr>\n",
       "    <tr>\n",
       "      <th>75%</th>\n",
       "      <td>13.250000</td>\n",
       "      <td>41967.500000</td>\n",
       "      <td>8.181971</td>\n",
       "      <td>5.318702e+05</td>\n",
       "      <td>4621.250000</td>\n",
       "      <td>4.062128e+05</td>\n",
       "      <td>355822.500000</td>\n",
       "      <td>120837.000000</td>\n",
       "      <td>263422.000000</td>\n",
       "      <td>30685.750000</td>\n",
       "      <td>70.913890</td>\n",
       "      <td>26.003564</td>\n",
       "      <td>53.954244</td>\n",
       "    </tr>\n",
       "    <tr>\n",
       "      <th>max</th>\n",
       "      <td>29.000000</td>\n",
       "      <td>57382.758621</td>\n",
       "      <td>9.572883</td>\n",
       "      <td>1.302376e+06</td>\n",
       "      <td>15505.000000</td>\n",
       "      <td>1.088742e+06</td>\n",
       "      <td>988870.000000</td>\n",
       "      <td>214030.000000</td>\n",
       "      <td>790425.000000</td>\n",
       "      <td>79877.000000</td>\n",
       "      <td>75.928150</td>\n",
       "      <td>32.142637</td>\n",
       "      <td>60.690999</td>\n",
       "    </tr>\n",
       "  </tbody>\n",
       "</table>\n",
       "</div>"
      ],
      "text/plain": [
       "           count        Median  Unemployment_rate         Total   Sample_size  \\\n",
       "count  16.000000     16.000000          16.000000  1.600000e+01     16.000000   \n",
       "mean   10.750000  37920.459332           6.998562  4.232284e+05   3847.875000   \n",
       "std     6.329824   6602.823053           1.571530  3.022061e+05   3469.589118   \n",
       "min     1.000000  30100.000000           4.651108  1.229600e+04    128.000000   \n",
       "25%     7.750000  34140.625000           5.864253  2.187138e+05   2107.500000   \n",
       "50%     9.500000  36382.142857           7.096223  4.232315e+05   3220.000000   \n",
       "75%    13.250000  41967.500000           8.181971  5.318702e+05   4621.250000   \n",
       "max    29.000000  57382.758621           9.572883  1.302376e+06  15505.000000   \n",
       "\n",
       "           Employed      Full_time      Part_time  Full_time_year_round  \\\n",
       "count  1.600000e+01      16.000000      16.000000             16.000000   \n",
       "mean   3.370749e+05  281282.000000   95430.250000         212837.562500   \n",
       "std    2.497598e+05  224300.954534   59254.599581         177591.222758   \n",
       "min    9.821000e+03    8032.000000    3173.000000           6234.000000   \n",
       "25%    1.779798e+05  145272.250000   50813.500000         110747.750000   \n",
       "50%    3.167285e+05  256853.500000  102204.500000         190015.000000   \n",
       "75%    4.062128e+05  355822.500000  120837.000000         263422.000000   \n",
       "max    1.088742e+06  988870.000000  214030.000000         790425.000000   \n",
       "\n",
       "         Unemployed  Full_time_percent  Part_time_percent  \\\n",
       "count     16.000000          16.000000          16.000000   \n",
       "mean   26105.437500          65.776140          23.441567   \n",
       "std    19691.569763           6.382856           4.794378   \n",
       "min      749.000000          52.962575          15.121286   \n",
       "25%    13002.750000          60.653231          21.115856   \n",
       "50%    23911.500000          65.690388          23.180808   \n",
       "75%    30685.750000          70.913890          26.003564   \n",
       "max    79877.000000          75.928150          32.142637   \n",
       "\n",
       "       Full_time_year_round_percent  \n",
       "count                     16.000000  \n",
       "mean                      49.714401  \n",
       "std                        6.182316  \n",
       "min                       36.531369  \n",
       "25%                       45.963089  \n",
       "50%                       50.193697  \n",
       "75%                       53.954244  \n",
       "max                       60.690999  "
      ]
     },
     "execution_count": 424,
     "metadata": {},
     "output_type": "execute_result"
    }
   ],
   "source": [
    "major_category_df.describe()"
   ]
  },
  {
   "cell_type": "markdown",
   "metadata": {},
   "source": [
    "<a id=\"3-2\"></a>\n",
    "### Breakdown of Major Categories and Associated Median Salaries"
   ]
  },
  {
   "cell_type": "code",
   "execution_count": 425,
   "metadata": {},
   "outputs": [
    {
     "data": {
      "text/plain": [
       "Text(0.5, 0.98, 'Count by Major Category')"
      ]
     },
     "execution_count": 425,
     "metadata": {},
     "output_type": "execute_result"
    },
    {
     "data": {
      "image/png": "[encoded data removed]",
      "text/plain": [
       "<Figure size 648x288 with 1 Axes>"
      ]
     },
     "metadata": {
      "needs_background": "light"
     },
     "output_type": "display_data"
    }
   ],
   "source": [
    "major_category_df.plot(y='count', kind='bar', figsize=(9,4))\n",
    "plt.suptitle('Count by Major Category')"
   ]
  },
  {
   "cell_type": "markdown",
   "metadata": {},
   "source": [
    "There are 16 Major Categories with 172 Majors from our 'grad_data' dataframe that supplied the numbers for our 'count' column for the 'major_categories_df' dataframe. We can see Engineering majors have the largest amount of majors that were included in the study with 29 in total. This higher-up view should give us a better sense of outcomes with more reliability as we are looking at a larger sample size than individual majors."
   ]
  },
  {
   "cell_type": "code",
   "execution_count": 426,
   "metadata": {},
   "outputs": [
    {
     "data": {
      "text/plain": [
       "Text(0.5, 0.98, 'Frequency Distribution of Median Salary ($)')"
      ]
     },
     "execution_count": 426,
     "metadata": {},
     "output_type": "execute_result"
    },
    {
     "data": {
      "image/png": "[encoded data removed]",
      "text/plain": [
       "<Figure size 432x288 with 1 Axes>"
      ]
     },
     "metadata": {
      "needs_background": "light"
     },
     "output_type": "display_data"
    }
   ],
   "source": [
    "major_category_df.hist('Median', bins=10)\n",
    "plt.xticks(np.arange(30000, 60000, step=2500), rotation=90)\n",
    "plt.suptitle('Frequency Distribution of Median Salary ($)')"
   ]
  },
  {
   "cell_type": "markdown",
   "metadata": {},
   "source": [
    "We can see the majority (11) of Median Salaries for Major Categories lie in the 30000 to 37500 dollar range. Four sit in the 40000 to 45000 dollar range. One outlier sits above the 55000 dollar line. Now we will look at the side-by-side breakdown of Median Salary information across the Major Categories. "
   ]
  },
  {
   "cell_type": "code",
   "execution_count": 427,
   "metadata": {},
   "outputs": [
    {
     "data": {
      "text/plain": [
       "Text(0.5, 0.98, 'Major Categories by Median Salary ($)')"
      ]
     },
     "execution_count": 427,
     "metadata": {},
     "output_type": "execute_result"
    },
    {
     "data": {
      "image/png": "[encoded data removed]",
      "text/plain": [
       "<Figure size 648x288 with 1 Axes>"
      ]
     },
     "metadata": {
      "needs_background": "light"
     },
     "output_type": "display_data"
    }
   ],
   "source": [
    "major_category_df.plot(y='Median', kind='bar', figsize=(9,4))\n",
    "plt.yticks(np.arange(0, 60000, step=5000))\n",
    "plt.suptitle('Major Categories by Median Salary ($)')"
   ]
  },
  {
   "cell_type": "markdown",
   "metadata": {},
   "source": [
    "We can see Engineers from this dataset, on average, clearly make more than any other major category. Business, Computers & Mathematics, Law & Public Policy, and Physical Sciences are all in the second tier (40000 to 45000 dollars). Five major categories came in under 35000 dollars: Arts, Education, Humanities & Liberal Arts, Communications & Journalism, and Psychology & Social Work with the latter having the lowest average of 30100 dollars."
   ]
  },
  {
   "cell_type": "markdown",
   "metadata": {},
   "source": [
    "<a id=\"3-3\"></a>\n",
    "### Unemployment Rate and Median Salary Across Major Categories\n",
    "Now as we recall, our goal here is to analyze the connection between Major Category, Employment Status, and Average income, let us start by visualizing the relationship between Unemployment Rate and Median Salary for these 16 data points."
   ]
  },
  {
   "cell_type": "code",
   "execution_count": 428,
   "metadata": {},
   "outputs": [
    {
     "data": {
      "text/plain": [
       "Text(0, 0.5, 'Median Salary ($)')"
      ]
     },
     "execution_count": 428,
     "metadata": {},
     "output_type": "execute_result"
    },
    {
     "data": {
      "image/png": "[encoded data removed]",
      "text/plain": [
       "<Figure size 432x288 with 1 Axes>"
      ]
     },
     "metadata": {
      "needs_background": "light"
     },
     "output_type": "display_data"
    }
   ],
   "source": [
    "major_category_df.plot(x='Unemployment_rate', y='Median', kind='scatter', title='Unemployment Rate vs Median Salary')\n",
    "plt.xlabel('Unemployment Rate (%)')\n",
    "plt.ylabel('Median Salary ($)')"
   ]
  },
  {
   "cell_type": "code",
   "execution_count": 429,
   "metadata": {},
   "outputs": [
    {
     "name": "stdout",
     "output_type": "stream",
     "text": [
      "0.2 % of the variation in y can be explained using X\n"
     ]
    }
   ],
   "source": [
    "R_squared(major_category_df['Unemployment_rate'], major_category_df['Median'])"
   ]
  },
  {
   "cell_type": "markdown",
   "metadata": {},
   "source": [
    "We can see from the scatterplot as well as from our coefficient of determination that there is no strong pattern here. We can still assess strength, to a degree, of a Major Category in terms of employability (refers to the attributes of a person that make that person able to gain and maintain employment) and standard of living (the degree of wealth and material comfort available to a person) by stacking Unemployment Rate and Median Salary side by side and comparing between them. We will do just that below. "
   ]
  },
  {
   "cell_type": "code",
   "execution_count": 430,
   "metadata": {},
   "outputs": [
    {
     "data": {
      "image/png": "[encoded data removed]",
      "text/plain": [
       "<Figure size 648x288 with 2 Axes>"
      ]
     },
     "metadata": {
      "needs_background": "light"
     },
     "output_type": "display_data"
    }
   ],
   "source": [
    "fig = plt.figure(figsize=(9,4))\n",
    "ax = fig.add_subplot() \n",
    "ax2 = ax.twinx() # Create another axes that shares the same x-axis as ax.\n",
    "\n",
    "width = 0.3\n",
    "\n",
    "major_category_df.Unemployment_rate.plot(kind='bar', color='orange', ax=ax, width=width, position=1)\n",
    "major_category_df.Median.plot(kind='bar', color='blue', ax=ax2, width=width, position=0)\n",
    "\n",
    "ax.set_ylabel('Unemployment Rate (%) ORANGE')\n",
    "ax2.set_ylabel('Median Salary ($) BLUE')\n",
    "\n",
    "plt.xlim(-1)\n",
    "plt.show()"
   ]
  },
  {
   "cell_type": "markdown",
   "metadata": {},
   "source": [
    "Here we can see the unemployment rate (orange) stacked up with the median salary (blue) along with the associated major along the x-axis. We can likely agree that a higher Median Salary and lower Unemployment Rate would both be positive indicators for a particular Major Category. With that in mind, the main observations that stick out are:\n",
    "- Engineering and Physical Science look to be the strongest for employability and standard of living\n",
    "- Arts, Social Science, Humanities & Liberal Arts, and Psychology & Social Work categories look to be the weakest\n",
    "\n",
    "We can create a new bar-plot containing the ratio between the two columns to quantify this relationship and make our observations clearer below."
   ]
  },
  {
   "cell_type": "code",
   "execution_count": 431,
   "metadata": {},
   "outputs": [
    {
     "data": {
      "text/plain": [
       "Text(0.5, 0.98, 'Ratio of Median Salary to Unemployment Rate')"
      ]
     },
     "execution_count": 431,
     "metadata": {},
     "output_type": "execute_result"
    },
    {
     "data": {
      "image/png": "[encoded data removed]",
      "text/plain": [
       "<Figure size 648x288 with 1 Axes>"
      ]
     },
     "metadata": {
      "needs_background": "light"
     },
     "output_type": "display_data"
    }
   ],
   "source": [
    "major_category_df['Median_unemployment_ratio'] = major_category_df['Median'] / major_category_df['Unemployment_rate']\n",
    "major_category_df.plot(y = 'Median_unemployment_ratio', kind='bar', figsize=(9,4))\n",
    "plt.suptitle('Ratio of Median Salary to Unemployment Rate')"
   ]
  },
  {
   "cell_type": "markdown",
   "metadata": {},
   "source": [
    "Confirmed by our bar graph, Engineering and Physical Sciences have the highest ratio of Median Salary to Unemployment rate with Industrial Arts & Consumer Services not too far behind. Meanwhile the four categories mentioned above have the lowest ratio with Law & Public Policy also close to their tier."
   ]
  },
  {
   "cell_type": "markdown",
   "metadata": {},
   "source": [
    "<a id=\"3-4\"></a>\n",
    "### Full-Time Employment, Part-Time Employment, and Median Salary Comparison Across Major Categories\n",
    "Next we will compare full-time versus part-time employment along with the associated median salaries of the major categories. For context, in many cases, part-time workers want full-time jobs but are working only part-time hours. Involuntary part-time workers are not only earning less income than they would prefer, but usually do not receive benefits such as health insurance, sick leave, holiday pay or vacations. This creates a less stable work situation with more risk if something happens to a part-time worker or their family. From this we could establish an assumption that higher part-time work means less stability, and that paired with lower average salary, means more financial risk.\n",
    "\n",
    "Utilizing the scatterplot below, we can also visualize the relationship between part-time work percentage and Median salary independent of major category."
   ]
  },
  {
   "cell_type": "code",
   "execution_count": 432,
   "metadata": {},
   "outputs": [
    {
     "data": {
      "text/plain": [
       "[<matplotlib.lines.Line2D at 0x283070d9850>]"
      ]
     },
     "execution_count": 432,
     "metadata": {},
     "output_type": "execute_result"
    },
    {
     "data": {
      "image/png": "[encoded data removed]",
      "text/plain": [
       "<Figure size 432x432 with 1 Axes>"
      ]
     },
     "metadata": {
      "needs_background": "light"
     },
     "output_type": "display_data"
    }
   ],
   "source": [
    "fig, ax = plt.subplots(figsize=(6,6))\n",
    "ax.set_xlabel('Percentage of Part Time Employed Graduates (%)')\n",
    "ax.set_title('Percentage of Part Time Employed Graduates vs. Median Salary')\n",
    "ax.set_ylabel('Median Salary ($)')\n",
    "ax.scatter(major_category_df.loc[:, 'Part_time_percent'], major_category_df.loc[:, 'Median'])\n",
    "ax.plot(major_category_df.loc[:, 'Part_time_percent'], y_pred(major_category_df.loc[:, 'Part_time_percent'], major_category_df.loc[:, 'Median']), 'r')"
   ]
  },
  {
   "cell_type": "code",
   "execution_count": 433,
   "metadata": {},
   "outputs": [
    {
     "name": "stdout",
     "output_type": "stream",
     "text": [
      "54.13 % of the variation in y can be explained using X\n"
     ]
    }
   ],
   "source": [
    "R_squared(major_category_df.loc[:, 'Part_time_percent'], major_category_df.loc[:, 'Median'])"
   ]
  },
  {
   "cell_type": "markdown",
   "metadata": {},
   "source": [
    "We can see from the scatterplot and the coefficient of determination, there is a relatively strong correlation in this dataset between a higher percentage of part-time employees and having a lower Median Salary. This strengthens the assumption that these factors are connected indicators of job stability and financial risk.\n",
    "\n",
    "With that we will compare Full-time employment percentage, Part-time employment percentage, and Median Salary across Major Categories using a bar graph below."
   ]
  },
  {
   "cell_type": "code",
   "execution_count": 434,
   "metadata": {},
   "outputs": [
    {
     "data": {
      "image/png": "[encoded data removed]",
      "text/plain": [
       "<Figure size 648x288 with 2 Axes>"
      ]
     },
     "metadata": {
      "needs_background": "light"
     },
     "output_type": "display_data"
    }
   ],
   "source": [
    "fig = plt.figure(figsize=(9,4)) \n",
    "ax = fig.add_subplot() \n",
    "ax2 = ax.twinx()\n",
    "\n",
    "width = 0.25\n",
    "\n",
    "major_category_df.Full_time_year_round_percent.plot(kind='bar', color='orange', ax=ax, width=width, position=1)\n",
    "major_category_df.Part_time_percent.plot(kind='bar', color='green', ax=ax, width=width, position=2)\n",
    "major_category_df.Median.plot(kind='bar', color='blue', ax=ax2, width=width, position=0)\n",
    "\n",
    "ax.set_ylabel('Full (year-round) & Part Time (%) ORANGE & GREEN')\n",
    "ax2.set_ylabel('Median Salary ($) BLUE')\n",
    "\n",
    "plt.suptitle('Full (year-round) & Part Time Percent vs Median Salary')\n",
    "plt.xlim(-1)\n",
    "plt.show()"
   ]
  },
  {
   "cell_type": "markdown",
   "metadata": {},
   "source": [
    "We are operating under the assumption that positive indicators of job stability and less financial risk are as follows: higher Full-time employment, lower part-time employment, and higher Median Salary.\n",
    "\n",
    "The average Full-time percentage for the major categories is 49.71%. Major categories that are above this line are Engineering, Business, Law & Public Policy, Computers & Mathematics, Education, Agriculture & Natural Resources, Communications & Journalism, and Interdisciplinary.\n",
    "\n",
    "The average Part-time percentage for the major categories is 23.44%. Major categories that are below this line are Engineering, Business, Physical Sciences, Law & Public Policies, Computers & Mathematics, Social Science, Education, Agriculture & Natural Resources, and Communications & Journalism.\n",
    "\n",
    "The Median Salary for the major categories is 37920.46 dollars. Major categories that are above this line are Engineering, Business, Physical Sciences, Law & Public Policy, Computers & Mathematics.\n",
    "\n",
    "The major categories that meet all three of these criteria, and are therefore paths to more stable outcomes on average are Engineering, Business, Computers & Mathematics, and Law & Public Policy.\n",
    "\n",
    "The major categories that don't meet any of the criteria and are therefore paths to less stable outcomes on average are Psychology & Social Work, Humanities & Liberal Arts, Biology & Life Science, Health, Arts, and Industrial Arts & Consumer Services.\n"
   ]
  },
  {
   "cell_type": "markdown",
   "metadata": {},
   "source": [
    "<a id=\"7\"></a>\n",
    "## Conclusions\n",
    "In this analysis, we utilized data pertaining to employment outcomes for college students who graduated between years 2010 - 2012 in the United States to help us find relevant patterns around our objectives.\n",
    "\n",
    "What did we find? Here is a re-cap of the key assumptions and observations found for each objective:\n",
    "- Discovering if students in more popular majors have higher average incomes:\n",
    "    - Popularity, was defined as a large magnitude of people practicing a particular major. A major with a higher total number of graduates was to be considered more popular. We utilized the 'Total' and 'Sample_size' columns to help us gauge this across majors.\n",
    "    - There was no discernible relationship between higher popularity of a major and its reported median salaries.\n",
    "    - The top 20 majors (roughly the top 10%) in terms of popularity based on sample size magnitude had an average salary of 39345 dollars which was below average for the dataset (40076 dollars).\n",
    "    - 8/10 of the top 10 majors ordered by rank of median salary are Engineering degrees. It would make sense that more technically difficult majors would yield higher average pay and have less graduates than less difficult majors. \n",
    "- Exploring the relationship between gender and average income:\n",
    "    - There was a relatively strong relationship between a larger percentage of women in a major yielding a lower Median Salary and higher percentage of Low-Wage jobs, but not a higher unemployment rate. This implies the inverse for the share of men in a major for Median Salary and Low-wage jobs percentage.\n",
    "- Analyzing the connection between major type, employment status, and average income:\n",
    "    - There is a strong relationship between a higher part-time work percentage and lower Median salary, independent of major category.\n",
    "    - Using Unemployment Rate and Median Salary to guide as metrics for Employability and Standard of Living:\n",
    "        - Engineering and Physical Science look to provide the strongest employability and standard of living outcomes.\n",
    "        - Arts, Social Science, Humanities & Liberal Arts, and Psychology & Social Work categories provide the weakest employability and standard of living outcomes.\n",
    "    - Operating under the assumption that positive indicators of job stability and less financial risk are higher Full-time employment percentage, lower Part-time employment percentage, and higher Median Salary:\n",
    "        - Engineering, Business, Computers & Mathematics, and Law & Public Policy were above average on all three criteria and therefore provided the most stable and least financially risky job outcomes.\n",
    "        - Psychology & Social Work, Humanities & Liberal Arts, Biology & Life Science, Health, Arts, and Industrial Arts & Consumer Services were below average on all three criteria and therefore the weakest in providing a stable and financially risk adverse outcome for graduates.\n",
    "    - Engineering provides the best all-around average outcome for its graduates. This Major Category not only yielded the highest average salary (by over 20%), but stood out as having the highest employability, job stability, and least financial risk.\n",
    "    - Arts, Humanities & Liberal Arts, and Psychology & Social Work were in the bottom tier in terms of average employability, standard of living, stability, and financial risk outcomes for graduates."
   ]
  }
 ],
 "metadata": {
  "kernelspec": {
   "display_name": "Python 3",
   "language": "python",
   "name": "python3"
  },
  "language_info": {
   "codemirror_mode": {
    "name": "ipython",
    "version": 3
   },
   "file_extension": ".py",
   "mimetype": "text/x-python",
   "name": "python",
   "nbconvert_exporter": "python",
   "pygments_lexer": "ipython3",
   "version": "3.9.0"
  }
 },
 "nbformat": 4,
 "nbformat_minor": 4
}
